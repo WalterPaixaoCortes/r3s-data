{
 "cells": [
  {
   "cell_type": "markdown",
   "metadata": {},
   "source": [
    "# Download WIFIA Data"
   ]
  },
  {
   "cell_type": "markdown",
   "metadata": {},
   "source": [
    "## Importing libraries"
   ]
  },
  {
   "cell_type": "code",
   "execution_count": 1,
   "metadata": {},
   "outputs": [],
   "source": [
    "import logging\n",
    "import os\n",
    "import sys\n",
    "\n",
    "from logging.handlers import TimedRotatingFileHandler\n",
    "\n",
    "import pandas as pd"
   ]
  },
  {
   "cell_type": "markdown",
   "metadata": {},
   "source": [
    "## Defining the parameters of the execution"
   ]
  },
  {
   "cell_type": "code",
   "execution_count": 2,
   "metadata": {},
   "outputs": [],
   "source": [
    "files_to_download = [\n",
    "  {\"url\": \"https://www.epa.gov/wifia/wifia-letters-interest-table\", \"file_name\": \"wifia_letters_submitted.csv\"}, \n",
    "  {\"url\": \"https://www.epa.gov/wifia/wifia-selected-projects-table\", \"file_name\": \"wifia_projects_selected.csv\"}, \n",
    "  {\"url\": \"https://www.epa.gov/wifia/wifia-closed-loans\", \"file_name\": \"wifia_loans_closed.csv\"}\n",
    "]\n",
    "\n",
    "unzipped_folder = \"rawfiles\"\n",
    "\n",
    "fhandler = TimedRotatingFileHandler(\"logs/wifia_download.log\", when=\"midnight\", interval=1)\n",
    "fhandler.suffix = \"%Y%m%d\"\n",
    "logging.basicConfig(\n",
    "        level=logging.INFO,\n",
    "        format=\"%(asctime)s - %(levelname)s - %(message)s\",\n",
    "        handlers=[fhandler, logging.StreamHandler(sys.stdout)],\n",
    "    )\n",
    "logger = logging.getLogger(__name__)"
   ]
  },
  {
   "cell_type": "markdown",
   "metadata": {},
   "source": [
    "## Downloading files"
   ]
  },
  {
   "cell_type": "code",
   "execution_count": 3,
   "metadata": {},
   "outputs": [
    {
     "name": "stdout",
     "output_type": "stream",
     "text": [
      "2022-10-06 20:16:42,185 - INFO - Starting the process to download WIFIA letters...\n",
      "2022-10-06 20:16:42,187 - INFO - Download from url: https://www.epa.gov/wifia/wifia-letters-interest-table...\n",
      "2022-10-06 20:16:46,113 - INFO - Download from url: https://www.epa.gov/wifia/wifia-letters-interest-table...\n",
      "2022-10-06 20:16:46,155 - INFO - Download from url: https://www.epa.gov/wifia/wifia-selected-projects-table...\n",
      "2022-10-06 20:16:47,322 - INFO - Download from url: https://www.epa.gov/wifia/wifia-selected-projects-table...\n",
      "2022-10-06 20:16:47,334 - INFO - Download from url: https://www.epa.gov/wifia/wifia-closed-loans...\n",
      "2022-10-06 20:16:48,236 - INFO - Download from url: https://www.epa.gov/wifia/wifia-closed-loans...\n"
     ]
    }
   ],
   "source": [
    "logger.info(\"Starting the process to download WIFIA letters...\")\n",
    "for item in files_to_download:\n",
    "  logger.info(f\"Download from url: {item['url']}...\")\n",
    "  df = pd.read_html(item[\"url\"])\n",
    "  logger.info(f\"Saving file: {item['file_name']}...\")\n",
    "  df[0].to_csv(os.path.join(unzipped_folder, item[\"file_name\"]), index_label=\"seq\")\n",
    "  "
   ]
  }
 ],
 "metadata": {
  "kernelspec": {
   "display_name": "Python 3.9.6 ('venv': venv)",
   "language": "python",
   "name": "python3"
  },
  "language_info": {
   "codemirror_mode": {
    "name": "ipython",
    "version": 3
   },
   "file_extension": ".py",
   "mimetype": "text/x-python",
   "name": "python",
   "nbconvert_exporter": "python",
   "pygments_lexer": "ipython3",
   "version": "3.9.6"
  },
  "orig_nbformat": 4,
  "vscode": {
   "interpreter": {
    "hash": "2699b20de84054a0debfded0092f82ecde8069d2acfd0beccd8a223bb7c57c3a"
   }
  }
 },
 "nbformat": 4,
 "nbformat_minor": 2
}
