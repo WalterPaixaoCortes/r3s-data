{
  "cells": [
    {
      "cell_type": "markdown",
      "metadata": {
        "colab_type": "text",
        "id": "view-in-github"
      },
      "source": [
        "<a href=\"https://colab.research.google.com/github/WalterPaixaoCortes/r3s-scripts/blob/main/notebooks/Data_Exploration.ipynb\" target=\"_parent\"><img src=\"https://colab.research.google.com/assets/colab-badge.svg\" alt=\"Open In Colab\"/></a>"
      ]
    },
    {
      "cell_type": "markdown",
      "metadata": {
        "id": "SYUysU-5pPrt"
      },
      "source": [
        "# ECPA file download"
      ]
    },
    {
      "cell_type": "markdown",
      "metadata": {
        "id": "LTQ9zNqnFwMz"
      },
      "source": [
        "## Importing libraries"
      ]
    },
    {
      "cell_type": "code",
      "execution_count": 15,
      "metadata": {
        "id": "hem7KqcEnEo1"
      },
      "outputs": [],
      "source": [
        "import os\n",
        "import datetime\n",
        "import zipfile\n",
        "import gzip\n",
        "import traceback\n",
        "import glob\n",
        "import logging\n",
        "import sys\n",
        "\n",
        "from logging.handlers import TimedRotatingFileHandler\n",
        "from urllib.parse import urlparse\n",
        "from dotenv import load_dotenv\n",
        "\n",
        "import requests as r\n",
        "\n",
        "from bs4 import BeautifulSoup"
      ]
    },
    {
      "cell_type": "markdown",
      "metadata": {},
      "source": [
        "## Defining the parameters for execution"
      ]
    },
    {
      "cell_type": "code",
      "execution_count": 16,
      "metadata": {},
      "outputs": [],
      "source": [
        "create_folders = False\n",
        "download_files = True\n",
        "unzip_files = True"
      ]
    },
    {
      "cell_type": "markdown",
      "metadata": {
        "id": "SzhDfwfZ5Wxm"
      },
      "source": [
        "## Defining the variables"
      ]
    },
    {
      "cell_type": "markdown",
      "metadata": {},
      "source": [
        "### Load Environment Variables"
      ]
    },
    {
      "cell_type": "code",
      "execution_count": 17,
      "metadata": {},
      "outputs": [
        {
          "data": {
            "text/plain": [
              "True"
            ]
          },
          "execution_count": 17,
          "metadata": {},
          "output_type": "execute_result"
        }
      ],
      "source": [
        "load_dotenv()"
      ]
    },
    {
      "cell_type": "markdown",
      "metadata": {},
      "source": [
        "### Initializing Logger"
      ]
    },
    {
      "cell_type": "code",
      "execution_count": 18,
      "metadata": {},
      "outputs": [],
      "source": [
        "fhandler = TimedRotatingFileHandler(\"logs/epa_download.log\", when=\"midnight\", interval=1)\n",
        "fhandler.suffix = \"%Y%m%d\"\n",
        "logging.basicConfig(\n",
        "        level=logging.INFO,\n",
        "        format=\"%(asctime)s - %(levelname)s - %(message)s\",\n",
        "        handlers=[fhandler, logging.StreamHandler(sys.stdout)],\n",
        "    )\n",
        "logger = logging.getLogger(__name__)"
      ]
    },
    {
      "cell_type": "markdown",
      "metadata": {},
      "source": [
        "### Build download URLS list"
      ]
    },
    {
      "cell_type": "code",
      "execution_count": 19,
      "metadata": {
        "id": "ap9_fWGwpq4j"
      },
      "outputs": [],
      "source": [
        "download_urls = [\"https://echo.epa.gov/files/echodownloads/frs_downloads.zip\",\n",
        "                 \"https://echo.epa.gov/files/echodownloads/case_downloads.zip\", \n",
        "                 \"https://echo.epa.gov/files/echodownloads/npdes_downloads.zip\",\n",
        "                 \"https://echo.epa.gov/files/echodownloads/npdes_eff_downloads.zip\",\n",
        "                 \"https://echo.epa.gov/files/echodownloads/npdes_master_general_permits.zip\",\n",
        "                 \"https://echo.epa.gov/files/echodownloads/npdes_outfalls_layer.zip\",\n",
        "                 \"https://echo.epa.gov/files/echodownloads/npdes_limits.zip\",\n",
        "                 \"https://echo.epa.gov/files/echodownloads/SDWA_latest_downloads.zip\"]"
      ]
    },
    {
      "cell_type": "markdown",
      "metadata": {},
      "source": [
        "For TRI files, we need to add a sequence of files, since 1987."
      ]
    },
    {
      "cell_type": "code",
      "execution_count": 20,
      "metadata": {},
      "outputs": [
        {
          "name": "stdout",
          "output_type": "stream",
          "text": [
            "2022-10-07 13:12:07,066 - INFO - Loading URLs for TRI downloads from 1987 to 2021...\n"
          ]
        }
      ],
      "source": [
        "tri_start = 1987\n",
        "tri_end = datetime.datetime.now().year -1\n",
        "tri_end_url = \"https://www3.epa.gov/tri/pds/US_%s.zip\"\n",
        "tri_url = \"https://www3.epa.gov/tri/current/US_%s.zip\"\n",
        "\n",
        "logger.info(f\"Loading URLs for TRI downloads from {tri_start} to {tri_end}...\")\n",
        "year = tri_start\n",
        "while year <= tri_end:\n",
        "  if year == tri_end:\n",
        "    url = tri_end_url % year\n",
        "  else:\n",
        "    url = tri_url % year\n",
        "  \n",
        "  download_urls.append(url)\n",
        "  year += 1"
      ]
    },
    {
      "cell_type": "markdown",
      "metadata": {},
      "source": [
        "For WQI files, we need to detect the correct files on the folder."
      ]
    },
    {
      "cell_type": "code",
      "execution_count": 21,
      "metadata": {},
      "outputs": [
        {
          "name": "stdout",
          "output_type": "stream",
          "text": [
            "2022-10-07 13:12:07,100 - INFO - Loading URLs for WQI downloads...\n"
          ]
        }
      ],
      "source": [
        "base_wqi_url = \"https://echo.epa.gov/files/echodownloads/Data-Analytics/WQI\"\n",
        "\n",
        "logger.info(f\"Loading URLs for WQI downloads...\")\n",
        "response = r.get(base_wqi_url)\n",
        "soup = BeautifulSoup(response.content, 'html.parser')\n",
        "links = soup.find_all('a')\n",
        "\n",
        "for item in links:\n",
        "  if \"ResultFileToEnd2Output\" in item[\"href\"]:\n",
        "    download_urls.append(f'{base_wqi_url}/{item[\"href\"]}')"
      ]
    },
    {
      "cell_type": "markdown",
      "metadata": {},
      "source": [
        "There is a special routine for DMR files as well."
      ]
    },
    {
      "cell_type": "code",
      "execution_count": 22,
      "metadata": {},
      "outputs": [
        {
          "name": "stdout",
          "output_type": "stream",
          "text": [
            "2022-10-07 13:12:07,884 - INFO - Loading URLs for DMR downloads...\n"
          ]
        }
      ],
      "source": [
        "base_dmr_url = \"https://echo.epa.gov/files/echodownloads\"\n",
        "\n",
        "logger.info(f\"Loading URLs for DMR downloads...\")\n",
        "response = r.get(base_dmr_url)\n",
        "soup = BeautifulSoup(response.content, 'html.parser')\n",
        "links = soup.find_all('a')\n",
        "\n",
        "for item in links:\n",
        "  if \"npdes_dmrs_\" in item[\"href\"]:\n",
        "    download_urls.append(f'{base_dmr_url}/{item[\"href\"]}')"
      ]
    },
    {
      "cell_type": "markdown",
      "metadata": {},
      "source": [
        "### Initializing Variables"
      ]
    },
    {
      "cell_type": "code",
      "execution_count": 23,
      "metadata": {},
      "outputs": [],
      "source": [
        "zipfile_folder = \"zipfiles\"\n",
        "unzipped_folder = \"rawfiles\"\n",
        "database_folder = \"database\"\n",
        "extension = \".zip\"\n",
        "\n",
        "allowed_extensions = [\".txt\",\".csv\"]\n",
        "\n",
        "my_conn = None"
      ]
    },
    {
      "cell_type": "markdown",
      "metadata": {},
      "source": [
        "Now, to help us out to not download files that were already downloaded, lets generate a list of downloaded files"
      ]
    },
    {
      "cell_type": "code",
      "execution_count": 24,
      "metadata": {},
      "outputs": [],
      "source": [
        "downloaded_files = []\n",
        "for item in os.listdir(zipfile_folder):\n",
        "  downloaded_files.append(os.path.basename(urlparse(item).path))"
      ]
    },
    {
      "cell_type": "markdown",
      "metadata": {
        "id": "JCdaeWamFsTX"
      },
      "source": [
        "## Defining the environment"
      ]
    },
    {
      "cell_type": "code",
      "execution_count": 25,
      "metadata": {
        "colab": {
          "base_uri": "https://localhost:8080/"
        },
        "id": "_MXVLFcaE7sD",
        "outputId": "4b59d7b9-e1da-4792-9b77-e626bd67a320"
      },
      "outputs": [
        {
          "name": "stdout",
          "output_type": "stream",
          "text": [
            "2022-10-07 13:12:08,786 - INFO - Folders already created...\n"
          ]
        }
      ],
      "source": [
        "if create_folders:\n",
        "  if not os.path.exists(zipfile_folder): \n",
        "    os.mkdir(zipfile_folder)\n",
        "  if not os.path.exists(unzipped_folder): \n",
        "    os.mkdir(unzipped_folder)\n",
        "  if not os.path.exists(database_folder): \n",
        "    os.mkdir(database_folder)\n",
        "else:\n",
        "  logger.info(\"Folders already created...\")"
      ]
    },
    {
      "cell_type": "markdown",
      "metadata": {
        "id": "XRrvb3U21_lq"
      },
      "source": [
        "## Download zip files"
      ]
    },
    {
      "cell_type": "code",
      "execution_count": 26,
      "metadata": {
        "colab": {
          "base_uri": "https://localhost:8080/"
        },
        "id": "TvysEExu1zsp",
        "outputId": "aec3bbec-d75c-4784-f252-779f41b6df47"
      },
      "outputs": [
        {
          "name": "stdout",
          "output_type": "stream",
          "text": [
            "2022-10-07 13:12:08,920 - INFO - Starting download process. Total files to be downloaded: 62...\n",
            "2022-10-07 13:12:08,921 - INFO - Downloading file frs_downloads.zip...\n",
            "2022-10-07 13:18:42,128 - INFO - --> File frs_downloads.zip saved.\n",
            "2022-10-07 13:18:50,909 - INFO - Downloading file case_downloads.zip...\n",
            "2022-10-07 13:18:56,949 - INFO - --> File case_downloads.zip saved.\n",
            "2022-10-07 13:18:56,953 - INFO - Downloading file npdes_downloads.zip...\n",
            "2022-10-07 13:19:42,817 - INFO - --> File npdes_downloads.zip saved.\n",
            "2022-10-07 13:19:51,283 - INFO - Downloading file npdes_eff_downloads.zip...\n",
            "2022-10-07 13:23:23,299 - INFO - --> File npdes_eff_downloads.zip saved.\n",
            "2022-10-07 13:24:08,324 - INFO - Downloading file npdes_master_general_permits.zip...\n",
            "2022-10-07 13:24:09,718 - INFO - --> File npdes_master_general_permits.zip saved.\n",
            "2022-10-07 13:24:09,722 - INFO - Downloading file npdes_outfalls_layer.zip...\n",
            "2022-10-07 13:24:21,973 - INFO - --> File npdes_outfalls_layer.zip saved.\n",
            "2022-10-07 13:24:21,975 - INFO - Downloading file npdes_limits.zip...\n",
            "2022-10-07 13:25:00,504 - INFO - --> File npdes_limits.zip saved.\n",
            "2022-10-07 13:25:14,734 - INFO - Downloading file SDWA_latest_downloads.zip...\n",
            "2022-10-07 13:26:01,171 - INFO - --> File SDWA_latest_downloads.zip saved.\n",
            "2022-10-07 13:26:11,688 - INFO - Downloading file US_1987.zip...\n",
            "2022-10-07 13:26:43,315 - INFO - --> File US_1987.zip saved.\n",
            "2022-10-07 13:26:43,317 - INFO - Downloading file US_1988.zip...\n",
            "2022-10-07 13:27:01,529 - INFO - --> File US_1988.zip saved.\n",
            "2022-10-07 13:27:01,531 - INFO - Downloading file US_1989.zip...\n",
            "2022-10-07 13:27:18,617 - INFO - --> File US_1989.zip saved.\n",
            "2022-10-07 13:27:18,619 - INFO - Downloading file US_1990.zip...\n",
            "2022-10-07 13:27:46,226 - INFO - --> File US_1990.zip saved.\n",
            "2022-10-07 13:27:46,228 - INFO - Downloading file US_1991.zip...\n",
            "2022-10-07 13:28:08,360 - INFO - --> File US_1991.zip saved.\n",
            "2022-10-07 13:28:08,361 - INFO - Downloading file US_1992.zip...\n",
            "2022-10-07 13:28:34,315 - INFO - --> File US_1992.zip saved.\n",
            "2022-10-07 13:28:34,317 - INFO - Downloading file US_1993.zip...\n",
            "2022-10-07 13:28:53,279 - INFO - --> File US_1993.zip saved.\n",
            "2022-10-07 13:28:53,282 - INFO - Downloading file US_1994.zip...\n",
            "2022-10-07 13:29:11,983 - INFO - --> File US_1994.zip saved.\n",
            "2022-10-07 13:29:11,986 - INFO - Downloading file US_1995.zip...\n",
            "2022-10-07 13:29:44,788 - INFO - --> File US_1995.zip saved.\n",
            "2022-10-07 13:29:44,790 - INFO - Downloading file US_1996.zip...\n",
            "2022-10-07 13:30:45,396 - INFO - --> File US_1996.zip saved.\n",
            "2022-10-07 13:30:45,399 - INFO - Downloading file US_1997.zip...\n",
            "2022-10-07 13:31:10,696 - INFO - --> File US_1997.zip saved.\n",
            "2022-10-07 13:31:10,698 - INFO - Downloading file US_1998.zip...\n",
            "2022-10-07 13:31:36,200 - INFO - --> File US_1998.zip saved.\n",
            "2022-10-07 13:31:36,202 - INFO - Downloading file US_1999.zip...\n",
            "2022-10-07 13:32:06,529 - INFO - --> File US_1999.zip saved.\n",
            "2022-10-07 13:32:06,532 - INFO - Downloading file US_2000.zip...\n",
            "2022-10-07 13:32:31,749 - INFO - --> File US_2000.zip saved.\n",
            "2022-10-07 13:32:31,751 - INFO - Downloading file US_2001.zip...\n",
            "2022-10-07 13:32:50,627 - INFO - --> File US_2001.zip saved.\n",
            "2022-10-07 13:32:50,630 - INFO - Downloading file US_2002.zip...\n",
            "2022-10-07 13:33:06,903 - INFO - --> File US_2002.zip saved.\n",
            "2022-10-07 13:33:06,905 - INFO - Downloading file US_2003.zip...\n",
            "2022-10-07 13:33:30,057 - INFO - --> File US_2003.zip saved.\n",
            "2022-10-07 13:33:30,059 - INFO - Downloading file US_2004.zip...\n",
            "2022-10-07 13:33:55,772 - INFO - --> File US_2004.zip saved.\n",
            "2022-10-07 13:33:55,775 - INFO - Downloading file US_2005.zip...\n",
            "2022-10-07 13:34:13,720 - INFO - --> File US_2005.zip saved.\n",
            "2022-10-07 13:34:13,721 - INFO - Downloading file US_2006.zip...\n",
            "2022-10-07 13:34:45,754 - INFO - --> File US_2006.zip saved.\n",
            "2022-10-07 13:34:45,757 - INFO - Downloading file US_2007.zip...\n",
            "2022-10-07 13:35:04,089 - INFO - --> File US_2007.zip saved.\n",
            "2022-10-07 13:35:04,092 - INFO - Downloading file US_2008.zip...\n",
            "2022-10-07 13:35:22,640 - INFO - --> File US_2008.zip saved.\n",
            "2022-10-07 13:35:22,643 - INFO - Downloading file US_2009.zip...\n",
            "2022-10-07 13:36:14,542 - INFO - --> File US_2009.zip saved.\n",
            "2022-10-07 13:36:14,544 - INFO - Downloading file US_2010.zip...\n",
            "2022-10-07 13:36:44,257 - INFO - --> File US_2010.zip saved.\n",
            "2022-10-07 13:36:44,259 - INFO - Downloading file US_2011.zip...\n",
            "2022-10-07 13:37:06,166 - INFO - --> File US_2011.zip saved.\n",
            "2022-10-07 13:37:06,169 - INFO - Downloading file US_2012.zip...\n",
            "2022-10-07 13:37:24,615 - INFO - --> File US_2012.zip saved.\n",
            "2022-10-07 13:37:24,617 - INFO - Downloading file US_2013.zip...\n",
            "2022-10-07 13:37:43,715 - INFO - --> File US_2013.zip saved.\n",
            "2022-10-07 13:37:43,718 - INFO - Downloading file US_2014.zip...\n",
            "2022-10-07 13:38:11,532 - INFO - --> File US_2014.zip saved.\n",
            "2022-10-07 13:38:11,535 - INFO - Downloading file US_2015.zip...\n",
            "2022-10-07 13:38:49,552 - INFO - --> File US_2015.zip saved.\n",
            "2022-10-07 13:38:49,555 - INFO - Downloading file US_2016.zip...\n",
            "2022-10-07 13:40:47,886 - INFO - --> File US_2016.zip saved.\n",
            "2022-10-07 13:40:47,889 - INFO - Downloading file US_2017.zip...\n",
            "2022-10-07 13:41:08,289 - INFO - --> File US_2017.zip saved.\n",
            "2022-10-07 13:41:08,292 - INFO - Downloading file US_2018.zip...\n",
            "2022-10-07 13:41:27,969 - INFO - --> File US_2018.zip saved.\n",
            "2022-10-07 13:41:27,971 - INFO - Downloading file US_2019.zip...\n",
            "2022-10-07 13:41:46,700 - INFO - --> File US_2019.zip saved.\n",
            "2022-10-07 13:41:46,701 - INFO - Downloading file US_2020.zip...\n",
            "2022-10-07 13:42:05,657 - INFO - --> File US_2020.zip saved.\n",
            "2022-10-07 13:42:05,659 - INFO - Downloading file US_2021.zip...\n",
            "2022-10-07 13:43:38,778 - INFO - --> File US_2021.zip saved.\n",
            "2022-10-07 13:43:38,780 - INFO - Downloading file ResultFileToEnd2Output20170913120959.csv.gz...\n",
            "2022-10-07 13:43:41,541 - INFO - --> File ResultFileToEnd2Output20170913120959.csv.gz saved.\n",
            "2022-10-07 13:43:41,545 - INFO - Downloading file ResultFileToEnd2Output20180518134759.csv.gz...\n",
            "2022-10-07 13:43:44,475 - INFO - --> File ResultFileToEnd2Output20180518134759.csv.gz saved.\n",
            "2022-10-07 13:43:44,477 - INFO - Downloading file ResultFileToEnd2Output20190923145053.csv.gz...\n",
            "2022-10-07 13:43:52,781 - INFO - --> File ResultFileToEnd2Output20190923145053.csv.gz saved.\n",
            "2022-10-07 13:43:52,783 - INFO - Downloading file ResultFileToEnd2Output20210604151132.csv.gz...\n",
            "2022-10-07 13:43:59,286 - INFO - --> File ResultFileToEnd2Output20210604151132.csv.gz saved.\n",
            "2022-10-07 13:43:59,288 - INFO - Downloading file npdes_dmrs_fy2009.zip...\n",
            "2022-10-07 13:44:14,140 - INFO - --> File npdes_dmrs_fy2009.zip saved.\n",
            "2022-10-07 13:44:14,142 - INFO - Downloading file npdes_dmrs_fy2010.zip...\n",
            "2022-10-07 13:44:49,048 - INFO - --> File npdes_dmrs_fy2010.zip saved.\n",
            "2022-10-07 13:44:58,942 - INFO - Downloading file npdes_dmrs_fy2011.zip...\n",
            "2022-10-07 13:45:17,869 - INFO - --> File npdes_dmrs_fy2011.zip saved.\n",
            "2022-10-07 13:45:30,610 - INFO - Downloading file npdes_dmrs_fy2012.zip...\n",
            "2022-10-07 13:45:49,088 - INFO - --> File npdes_dmrs_fy2012.zip saved.\n",
            "2022-10-07 13:45:49,091 - INFO - Downloading file npdes_dmrs_fy2013.zip...\n",
            "2022-10-07 13:46:11,810 - INFO - --> File npdes_dmrs_fy2013.zip saved.\n",
            "2022-10-07 13:46:24,894 - INFO - Downloading file npdes_dmrs_fy2014.zip...\n",
            "2022-10-07 13:47:16,862 - INFO - --> File npdes_dmrs_fy2014.zip saved.\n",
            "2022-10-07 13:47:38,837 - INFO - Downloading file npdes_dmrs_fy2015.zip...\n",
            "2022-10-07 13:48:08,096 - INFO - --> File npdes_dmrs_fy2015.zip saved.\n",
            "2022-10-07 13:48:43,120 - INFO - Downloading file npdes_dmrs_fy2016.zip...\n",
            "2022-10-07 14:14:22,206 - INFO - --> File npdes_dmrs_fy2016.zip saved.\n",
            "2022-10-07 14:14:43,474 - INFO - Downloading file npdes_dmrs_fy2017.zip...\n",
            "2022-10-07 14:15:21,268 - INFO - --> File npdes_dmrs_fy2017.zip saved.\n",
            "2022-10-07 14:15:45,626 - INFO - Downloading file npdes_dmrs_fy2018.zip...\n",
            "2022-10-07 14:17:25,316 - INFO - --> File npdes_dmrs_fy2018.zip saved.\n",
            "2022-10-07 14:17:49,269 - INFO - Downloading file npdes_dmrs_fy2019.zip...\n",
            "2022-10-07 14:18:58,103 - INFO - --> File npdes_dmrs_fy2019.zip saved.\n",
            "2022-10-07 14:19:27,091 - INFO - Downloading file npdes_dmrs_fy2020.zip...\n",
            "2022-10-07 14:20:26,045 - INFO - --> File npdes_dmrs_fy2020.zip saved.\n",
            "2022-10-07 14:20:48,916 - INFO - Downloading file npdes_dmrs_fy2021.zip...\n",
            "2022-10-07 14:21:50,984 - INFO - --> File npdes_dmrs_fy2021.zip saved.\n",
            "2022-10-07 14:22:04,729 - INFO - Downloading file npdes_dmrs_fy2022.zip...\n",
            "2022-10-07 14:23:36,163 - INFO - --> File npdes_dmrs_fy2022.zip saved.\n",
            "2022-10-07 14:23:56,320 - INFO - Downloading file npdes_dmrs_prefy2009.zip...\n",
            "2022-10-07 14:27:57,289 - INFO - --> File npdes_dmrs_prefy2009.zip saved.\n"
          ]
        }
      ],
      "source": [
        "if download_files:\n",
        "  logger.info(f\"Starting download process. Total files to be downloaded: {len(download_urls)}...\")\n",
        "  for download_url in download_urls:\n",
        "    file_name = os.path.basename(urlparse(download_url).path)\n",
        "    table_name, ext =  os.path.splitext(file_name)\n",
        "    if file_name not in downloaded_files:\n",
        "      logger.info(f\"Downloading file {file_name}...\")\n",
        "      try:\n",
        "        response = r.get(download_url, allow_redirects=True)\n",
        "        with open(os.path.join(zipfile_folder, file_name), \"wb\") as fw:\n",
        "          fw.write(response.content)\n",
        "          logger.info(f\"--> File {file_name} saved.\")\n",
        "      except:\n",
        "          logger.error(f\"--> File {file_name} not downloaded.\")\n",
        "else:\n",
        "  logger.info(\"Files already downloaded...\")\n"
      ]
    },
    {
      "cell_type": "markdown",
      "metadata": {
        "id": "Y24JS1_z2yC3"
      },
      "source": [
        "## Unzip the files"
      ]
    },
    {
      "cell_type": "code",
      "execution_count": 27,
      "metadata": {
        "colab": {
          "base_uri": "https://localhost:8080/"
        },
        "id": "oh4q-wLe27qR",
        "outputId": "401fbb8c-9528-4d7f-c0e8-e2e9dbc8d383"
      },
      "outputs": [
        {
          "name": "stdout",
          "output_type": "stream",
          "text": [
            "2022-10-07 14:28:42,430 - INFO - Unzipping file case_downloads.zip...\n",
            "2022-10-07 14:28:46,358 - INFO - --> File case_downloads.zip unzipped.\n",
            "2022-10-07 14:28:46,360 - INFO - Unzipping file frs_downloads.zip...\n",
            "2022-10-07 14:28:56,746 - INFO - --> File frs_downloads.zip unzipped.\n",
            "2022-10-07 14:28:56,748 - INFO - Unzipping file npdes_dmrs_fy2009.zip...\n",
            "2022-10-07 14:29:23,815 - INFO - --> File npdes_dmrs_fy2009.zip unzipped.\n",
            "2022-10-07 14:29:23,816 - INFO - Unzipping file npdes_dmrs_fy2010.zip...\n",
            "2022-10-07 14:29:49,252 - INFO - --> File npdes_dmrs_fy2010.zip unzipped.\n",
            "2022-10-07 14:29:49,253 - INFO - Unzipping file npdes_dmrs_fy2011.zip...\n",
            "2022-10-07 14:30:14,237 - INFO - --> File npdes_dmrs_fy2011.zip unzipped.\n",
            "2022-10-07 14:30:14,238 - INFO - Unzipping file npdes_dmrs_fy2012.zip...\n",
            "2022-10-07 14:30:42,132 - INFO - --> File npdes_dmrs_fy2012.zip unzipped.\n",
            "2022-10-07 14:30:42,133 - INFO - Unzipping file npdes_dmrs_fy2013.zip...\n",
            "2022-10-07 14:31:10,633 - INFO - --> File npdes_dmrs_fy2013.zip unzipped.\n",
            "2022-10-07 14:31:10,634 - INFO - Unzipping file npdes_dmrs_fy2014.zip...\n",
            "2022-10-07 14:31:43,456 - INFO - --> File npdes_dmrs_fy2014.zip unzipped.\n",
            "2022-10-07 14:31:43,457 - INFO - Unzipping file npdes_dmrs_fy2015.zip...\n",
            "2022-10-07 14:32:14,858 - INFO - --> File npdes_dmrs_fy2015.zip unzipped.\n",
            "2022-10-07 14:32:14,859 - INFO - Unzipping file npdes_dmrs_fy2016.zip...\n",
            "2022-10-07 14:32:43,995 - INFO - --> File npdes_dmrs_fy2016.zip unzipped.\n",
            "2022-10-07 14:32:43,996 - INFO - Unzipping file npdes_dmrs_fy2017.zip...\n",
            "2022-10-07 14:33:25,413 - INFO - --> File npdes_dmrs_fy2017.zip unzipped.\n",
            "2022-10-07 14:33:25,415 - INFO - Unzipping file npdes_dmrs_fy2018.zip...\n",
            "2022-10-07 14:34:12,409 - INFO - --> File npdes_dmrs_fy2018.zip unzipped.\n",
            "2022-10-07 14:34:12,410 - INFO - Unzipping file npdes_dmrs_fy2019.zip...\n",
            "2022-10-07 14:34:58,522 - INFO - --> File npdes_dmrs_fy2019.zip unzipped.\n",
            "2022-10-07 14:34:58,523 - INFO - Unzipping file npdes_dmrs_fy2020.zip...\n",
            "2022-10-07 14:35:46,512 - INFO - --> File npdes_dmrs_fy2020.zip unzipped.\n",
            "2022-10-07 14:35:46,513 - INFO - Unzipping file npdes_dmrs_fy2021.zip...\n",
            "2022-10-07 14:36:33,090 - INFO - --> File npdes_dmrs_fy2021.zip unzipped.\n",
            "2022-10-07 14:36:33,091 - INFO - Unzipping file npdes_dmrs_fy2022.zip...\n",
            "2022-10-07 14:37:11,506 - INFO - --> File npdes_dmrs_fy2022.zip unzipped.\n",
            "2022-10-07 14:37:11,507 - INFO - Unzipping file npdes_dmrs_prefy2009.zip...\n",
            "2022-10-07 14:39:17,130 - INFO - --> File npdes_dmrs_prefy2009.zip unzipped.\n",
            "2022-10-07 14:39:17,131 - INFO - Unzipping file npdes_downloads.zip...\n",
            "2022-10-07 14:39:27,335 - INFO - --> File npdes_downloads.zip unzipped.\n",
            "2022-10-07 14:39:27,336 - INFO - Unzipping file npdes_eff_downloads.zip...\n",
            "2022-10-07 14:41:10,491 - INFO - --> File npdes_eff_downloads.zip unzipped.\n",
            "2022-10-07 14:41:10,492 - INFO - Unzipping file npdes_limits.zip...\n",
            "2022-10-07 14:41:38,201 - INFO - --> File npdes_limits.zip unzipped.\n",
            "2022-10-07 14:41:38,201 - INFO - Unzipping file npdes_master_general_permits.zip...\n",
            "2022-10-07 14:41:38,214 - INFO - --> File npdes_master_general_permits.zip unzipped.\n",
            "2022-10-07 14:41:38,214 - INFO - Unzipping file npdes_outfalls_layer.zip...\n",
            "2022-10-07 14:41:40,083 - INFO - --> File npdes_outfalls_layer.zip unzipped.\n",
            "2022-10-07 14:41:40,084 - INFO - Decompressing file ResultFileToEnd2Output20170913120959.csv.gz...\n",
            "2022-10-07 14:41:40,723 - INFO - File c:\\Work\\code\\wvcode\\r3s-data\\notebooks\\rawfiles\\ResultFileToEnd2Output20170913120959.csv decompressed and saved...\n",
            "2022-10-07 14:41:40,723 - INFO - Decompressing file ResultFileToEnd2Output20180518134759.csv.gz...\n",
            "2022-10-07 14:41:41,695 - INFO - File c:\\Work\\code\\wvcode\\r3s-data\\notebooks\\rawfiles\\ResultFileToEnd2Output20180518134759.csv decompressed and saved...\n",
            "2022-10-07 14:41:41,695 - INFO - Decompressing file ResultFileToEnd2Output20190923145053.csv.gz...\n",
            "2022-10-07 14:41:43,037 - INFO - File c:\\Work\\code\\wvcode\\r3s-data\\notebooks\\rawfiles\\ResultFileToEnd2Output20190923145053.csv decompressed and saved...\n",
            "2022-10-07 14:41:43,038 - INFO - Decompressing file ResultFileToEnd2Output20210604151132.csv.gz...\n",
            "2022-10-07 14:41:44,342 - INFO - File c:\\Work\\code\\wvcode\\r3s-data\\notebooks\\rawfiles\\ResultFileToEnd2Output20210604151132.csv decompressed and saved...\n",
            "2022-10-07 14:41:44,343 - INFO - Unzipping file SDWA_latest_downloads.zip...\n",
            "2022-10-07 14:42:08,353 - INFO - --> File SDWA_latest_downloads.zip unzipped.\n",
            "2022-10-07 14:42:08,354 - INFO - Unzipping file US_1987.zip...\n",
            "2022-10-07 14:42:10,419 - INFO - --> File US_1987.zip unzipped.\n",
            "2022-10-07 14:42:10,420 - INFO - Unzipping file US_1988.zip...\n",
            "2022-10-07 14:42:12,383 - INFO - --> File US_1988.zip unzipped.\n",
            "2022-10-07 14:42:12,384 - INFO - Unzipping file US_1989.zip...\n",
            "2022-10-07 14:42:14,339 - INFO - --> File US_1989.zip unzipped.\n",
            "2022-10-07 14:42:14,340 - INFO - Unzipping file US_1990.zip...\n",
            "2022-10-07 14:42:16,298 - INFO - --> File US_1990.zip unzipped.\n",
            "2022-10-07 14:42:16,299 - INFO - Unzipping file US_1991.zip...\n",
            "2022-10-07 14:42:18,726 - INFO - --> File US_1991.zip unzipped.\n",
            "2022-10-07 14:42:18,727 - INFO - Unzipping file US_1992.zip...\n",
            "2022-10-07 14:42:20,999 - INFO - --> File US_1992.zip unzipped.\n",
            "2022-10-07 14:42:21,000 - INFO - Unzipping file US_1993.zip...\n",
            "2022-10-07 14:42:23,291 - INFO - --> File US_1993.zip unzipped.\n",
            "2022-10-07 14:42:23,292 - INFO - Unzipping file US_1994.zip...\n",
            "2022-10-07 14:42:25,567 - INFO - --> File US_1994.zip unzipped.\n",
            "2022-10-07 14:42:25,568 - INFO - Unzipping file US_1995.zip...\n",
            "2022-10-07 14:42:27,689 - INFO - --> File US_1995.zip unzipped.\n",
            "2022-10-07 14:42:27,691 - INFO - Unzipping file US_1996.zip...\n",
            "2022-10-07 14:42:29,824 - INFO - --> File US_1996.zip unzipped.\n",
            "2022-10-07 14:42:29,826 - INFO - Unzipping file US_1997.zip...\n",
            "2022-10-07 14:42:32,071 - INFO - --> File US_1997.zip unzipped.\n",
            "2022-10-07 14:42:32,073 - INFO - Unzipping file US_1998.zip...\n",
            "2022-10-07 14:42:34,405 - INFO - --> File US_1998.zip unzipped.\n",
            "2022-10-07 14:42:34,405 - INFO - Unzipping file US_1999.zip...\n",
            "2022-10-07 14:42:36,512 - INFO - --> File US_1999.zip unzipped.\n",
            "2022-10-07 14:42:36,513 - INFO - Unzipping file US_2000.zip...\n",
            "2022-10-07 14:42:38,872 - INFO - --> File US_2000.zip unzipped.\n",
            "2022-10-07 14:42:38,873 - INFO - Unzipping file US_2001.zip...\n",
            "2022-10-07 14:42:41,444 - INFO - --> File US_2001.zip unzipped.\n",
            "2022-10-07 14:42:41,446 - INFO - Unzipping file US_2002.zip...\n",
            "2022-10-07 14:42:43,869 - INFO - --> File US_2002.zip unzipped.\n",
            "2022-10-07 14:42:43,871 - INFO - Unzipping file US_2003.zip...\n",
            "2022-10-07 14:42:46,331 - INFO - --> File US_2003.zip unzipped.\n",
            "2022-10-07 14:42:46,333 - INFO - Unzipping file US_2004.zip...\n",
            "2022-10-07 14:42:48,584 - INFO - --> File US_2004.zip unzipped.\n",
            "2022-10-07 14:42:48,585 - INFO - Unzipping file US_2005.zip...\n",
            "2022-10-07 14:42:51,172 - INFO - --> File US_2005.zip unzipped.\n",
            "2022-10-07 14:42:51,173 - INFO - Unzipping file US_2006.zip...\n",
            "2022-10-07 14:42:53,515 - INFO - --> File US_2006.zip unzipped.\n",
            "2022-10-07 14:42:53,516 - INFO - Unzipping file US_2007.zip...\n",
            "2022-10-07 14:42:56,194 - INFO - --> File US_2007.zip unzipped.\n",
            "2022-10-07 14:42:56,195 - INFO - Unzipping file US_2008.zip...\n",
            "2022-10-07 14:42:58,657 - INFO - --> File US_2008.zip unzipped.\n",
            "2022-10-07 14:42:58,659 - INFO - Unzipping file US_2009.zip...\n",
            "2022-10-07 14:43:00,893 - INFO - --> File US_2009.zip unzipped.\n",
            "2022-10-07 14:43:00,894 - INFO - Unzipping file US_2010.zip...\n",
            "2022-10-07 14:43:03,014 - INFO - --> File US_2010.zip unzipped.\n",
            "2022-10-07 14:43:03,016 - INFO - Unzipping file US_2011.zip...\n",
            "2022-10-07 14:43:05,788 - INFO - --> File US_2011.zip unzipped.\n",
            "2022-10-07 14:43:05,789 - INFO - Unzipping file US_2012.zip...\n",
            "2022-10-07 14:43:09,772 - INFO - --> File US_2012.zip unzipped.\n",
            "2022-10-07 14:43:09,774 - INFO - Unzipping file US_2013.zip...\n",
            "2022-10-07 14:43:13,727 - INFO - --> File US_2013.zip unzipped.\n",
            "2022-10-07 14:43:13,729 - INFO - Unzipping file US_2014.zip...\n",
            "2022-10-07 14:43:16,704 - INFO - --> File US_2014.zip unzipped.\n",
            "2022-10-07 14:43:16,706 - INFO - Unzipping file US_2015.zip...\n",
            "2022-10-07 14:43:20,403 - INFO - --> File US_2015.zip unzipped.\n",
            "2022-10-07 14:43:20,405 - INFO - Unzipping file US_2016.zip...\n",
            "2022-10-07 14:43:23,206 - INFO - --> File US_2016.zip unzipped.\n",
            "2022-10-07 14:43:23,207 - INFO - Unzipping file US_2017.zip...\n",
            "2022-10-07 14:43:25,796 - INFO - --> File US_2017.zip unzipped.\n",
            "2022-10-07 14:43:25,798 - INFO - Unzipping file US_2018.zip...\n",
            "2022-10-07 14:43:29,410 - INFO - --> File US_2018.zip unzipped.\n",
            "2022-10-07 14:43:29,415 - INFO - Unzipping file US_2019.zip...\n",
            "2022-10-07 14:43:34,978 - INFO - --> File US_2019.zip unzipped.\n",
            "2022-10-07 14:43:34,980 - INFO - Unzipping file US_2020.zip...\n",
            "2022-10-07 14:43:39,241 - INFO - --> File US_2020.zip unzipped.\n",
            "2022-10-07 14:43:39,243 - INFO - Unzipping file US_2021.zip...\n",
            "2022-10-07 14:43:43,337 - INFO - --> File US_2021.zip unzipped.\n"
          ]
        }
      ],
      "source": [
        "if unzip_files:\n",
        "  for item in os.listdir(zipfile_folder):\n",
        "    if item.endswith(extension) and item not in downloaded_files: \n",
        "      logger.info(f\"Unzipping file {item}...\")\n",
        "      try:\n",
        "        file_name = os.path.abspath(os.path.join(zipfile_folder, item)) \n",
        "        zip_ref = zipfile.ZipFile(file_name)\n",
        "        zip_ref.extractall(unzipped_folder)\n",
        "        zip_ref.close()\n",
        "        logger.info(f\"--> File {item} unzipped.\")\n",
        "      except:\n",
        "        logger.error(f\"--> File {item} not unzipped.\")\n",
        "    elif item.endswith(\".gz\")  and item not in downloaded_files:\n",
        "      logger.info(f\"Decompressing file {item}...\")\n",
        "      try:\n",
        "        file_name = os.path.abspath(os.path.join(zipfile_folder, item)) \n",
        "        new_file_name = os.path.abspath(os.path.join(unzipped_folder, item.replace(\".gz\",\"\"))) \n",
        "        file_out = gzip.decompress(open(file_name, 'rb').read())\n",
        "        with open(new_file_name, 'wb') as fw:\n",
        "          fw.write(file_out)\n",
        "        logger.info(f\"File {new_file_name} decompressed and saved...\")        \n",
        "      except:\n",
        "        logger.error(f\"--> File {item} not decompressed.\")\n",
        "    else:\n",
        "      logger.info(f\"Skipping file {item}.\")\n",
        "else:\n",
        "  logger.info(\"Files already unzipped...\")"
      ]
    },
    {
      "cell_type": "markdown",
      "metadata": {},
      "source": [
        "## Removing files not used"
      ]
    },
    {
      "cell_type": "code",
      "execution_count": 28,
      "metadata": {},
      "outputs": [
        {
          "name": "stdout",
          "output_type": "stream",
          "text": [
            "2022-10-07 14:43:43,501 - INFO - Preparing list of files to be processed...\n"
          ]
        }
      ],
      "source": [
        "logger.info(\"Preparing list of files to be processed...\")\n",
        "list_of_files = filter(os.path.isfile, glob.glob(unzipped_folder + '/*') )\n",
        "files = [os.path.basename(item) for item in list_of_files]\n",
        "\n",
        "for item in files:\n",
        "  table_name, file_ext = os.path.splitext(os.path.basename(item))\n",
        "  if table_name.lower() not in os.getenv('USED_SOURCE'):\n",
        "    os.remove(os.path.join(unzipped_folder, item))\n"
      ]
    }
  ],
  "metadata": {
    "colab": {
      "collapsed_sections": [],
      "include_colab_link": true,
      "name": "Data Exploration.ipynb",
      "provenance": []
    },
    "kernelspec": {
      "display_name": "Python 3.9.6 ('venv': venv)",
      "language": "python",
      "name": "python3"
    },
    "language_info": {
      "codemirror_mode": {
        "name": "ipython",
        "version": 3
      },
      "file_extension": ".py",
      "mimetype": "text/x-python",
      "name": "python",
      "nbconvert_exporter": "python",
      "pygments_lexer": "ipython3",
      "version": "3.9.6"
    },
    "vscode": {
      "interpreter": {
        "hash": "2699b20de84054a0debfded0092f82ecde8069d2acfd0beccd8a223bb7c57c3a"
      }
    }
  },
  "nbformat": 4,
  "nbformat_minor": 0
}
