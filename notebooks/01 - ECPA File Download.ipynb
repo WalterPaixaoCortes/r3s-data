{
  "cells": [
    {
      "cell_type": "markdown",
      "metadata": {
        "colab_type": "text",
        "id": "view-in-github"
      },
      "source": [
        "<a href=\"https://colab.research.google.com/github/WalterPaixaoCortes/r3s-scripts/blob/main/notebooks/Data_Exploration.ipynb\" target=\"_parent\"><img src=\"https://colab.research.google.com/assets/colab-badge.svg\" alt=\"Open In Colab\"/></a>"
      ]
    },
    {
      "cell_type": "markdown",
      "metadata": {
        "id": "SYUysU-5pPrt"
      },
      "source": [
        "# ECPA file download"
      ]
    },
    {
      "cell_type": "markdown",
      "metadata": {
        "id": "LTQ9zNqnFwMz"
      },
      "source": [
        "## Importing libraries"
      ]
    },
    {
      "cell_type": "code",
      "execution_count": 1,
      "metadata": {
        "id": "hem7KqcEnEo1"
      },
      "outputs": [],
      "source": [
        "import os\n",
        "import datetime\n",
        "import zipfile\n",
        "import gzip\n",
        "import traceback\n",
        "import glob\n",
        "import logging\n",
        "import sys\n",
        "\n",
        "from logging.handlers import TimedRotatingFileHandler\n",
        "from urllib.parse import urlparse\n",
        "from dotenv import load_dotenv\n",
        "\n",
        "import requests as r\n",
        "\n",
        "from bs4 import BeautifulSoup"
      ]
    },
    {
      "cell_type": "markdown",
      "metadata": {},
      "source": [
        "## Defining the parameters for execution"
      ]
    },
    {
      "cell_type": "code",
      "execution_count": 2,
      "metadata": {},
      "outputs": [],
      "source": [
        "create_folders = False\n",
        "download_files = True\n",
        "unzip_files = True"
      ]
    },
    {
      "cell_type": "markdown",
      "metadata": {
        "id": "SzhDfwfZ5Wxm"
      },
      "source": [
        "## Defining the variables"
      ]
    },
    {
      "cell_type": "markdown",
      "metadata": {},
      "source": [
        "### Load Environment Variables"
      ]
    },
    {
      "cell_type": "code",
      "execution_count": 3,
      "metadata": {},
      "outputs": [
        {
          "data": {
            "text/plain": [
              "True"
            ]
          },
          "execution_count": 3,
          "metadata": {},
          "output_type": "execute_result"
        }
      ],
      "source": [
        "load_dotenv()"
      ]
    },
    {
      "cell_type": "markdown",
      "metadata": {},
      "source": [
        "### Initializing Logger"
      ]
    },
    {
      "cell_type": "code",
      "execution_count": 4,
      "metadata": {},
      "outputs": [],
      "source": [
        "fhandler = TimedRotatingFileHandler(\"logs/epa_download.log\", when=\"midnight\", interval=1)\n",
        "fhandler.suffix = \"%Y%m%d\"\n",
        "logging.basicConfig(\n",
        "        level=logging.INFO,\n",
        "        format=\"%(asctime)s - %(levelname)s - %(message)s\",\n",
        "        handlers=[fhandler, logging.StreamHandler(sys.stdout)],\n",
        "    )\n",
        "logger = logging.getLogger(__name__)"
      ]
    },
    {
      "cell_type": "markdown",
      "metadata": {},
      "source": [
        "### Build download URLS list"
      ]
    },
    {
      "cell_type": "code",
      "execution_count": 5,
      "metadata": {
        "id": "ap9_fWGwpq4j"
      },
      "outputs": [],
      "source": [
        "download_urls = [\"https://echo.epa.gov/files/echodownloads/frs_downloads.zip\",\n",
        "                 \"https://echo.epa.gov/files/echodownloads/case_downloads.zip\", \n",
        "                 \"https://echo.epa.gov/files/echodownloads/npdes_downloads.zip\",\n",
        "                 \"https://echo.epa.gov/files/echodownloads/npdes_eff_downloads.zip\",\n",
        "                 \"https://echo.epa.gov/files/echodownloads/npdes_master_general_permits.zip\",\n",
        "                 \"https://echo.epa.gov/files/echodownloads/npdes_outfalls_layer.zip\",\n",
        "                 \"https://echo.epa.gov/files/echodownloads/npdes_limits.zip\",\n",
        "                 \"https://echo.epa.gov/files/echodownloads/SDWA_latest_downloads.zip\"]"
      ]
    },
    {
      "cell_type": "markdown",
      "metadata": {},
      "source": [
        "For TRI files, we need to add a sequence of files, since 1987."
      ]
    },
    {
      "cell_type": "code",
      "execution_count": 6,
      "metadata": {},
      "outputs": [
        {
          "name": "stdout",
          "output_type": "stream",
          "text": [
            "2022-10-18 17:16:26,575 - INFO - Loading URLs for TRI downloads from 1987 to 2021...\n"
          ]
        }
      ],
      "source": [
        "tri_start = 1987\n",
        "tri_end = datetime.datetime.now().year -1\n",
        "tri_end_url = \"https://www3.epa.gov/tri/pds/US_%s.zip\"\n",
        "tri_url = \"https://www3.epa.gov/tri/current/US_%s.zip\"\n",
        "\n",
        "logger.info(f\"Loading URLs for TRI downloads from {tri_start} to {tri_end}...\")\n",
        "year = tri_start\n",
        "while year <= tri_end:\n",
        "  if year == tri_end:\n",
        "    url = tri_end_url % year\n",
        "  else:\n",
        "    url = tri_url % year\n",
        "  \n",
        "  download_urls.append(url)\n",
        "  year += 1"
      ]
    },
    {
      "cell_type": "markdown",
      "metadata": {},
      "source": [
        "For WQI files, we need to detect the correct files on the folder."
      ]
    },
    {
      "cell_type": "code",
      "execution_count": 7,
      "metadata": {},
      "outputs": [
        {
          "name": "stdout",
          "output_type": "stream",
          "text": [
            "2022-10-18 17:16:26,622 - INFO - Loading URLs for WQI downloads...\n"
          ]
        }
      ],
      "source": [
        "base_wqi_url = \"https://echo.epa.gov/files/echodownloads/Data-Analytics/WQI\"\n",
        "\n",
        "logger.info(f\"Loading URLs for WQI downloads...\")\n",
        "response = r.get(base_wqi_url)\n",
        "soup = BeautifulSoup(response.content, 'html.parser')\n",
        "links = soup.find_all('a')\n",
        "\n",
        "for item in links:\n",
        "  if \"ResultFileToEnd2Output\" in item[\"href\"]:\n",
        "    download_urls.append(f'{base_wqi_url}/{item[\"href\"]}')"
      ]
    },
    {
      "cell_type": "markdown",
      "metadata": {},
      "source": [
        "There is a special routine for DMR files as well."
      ]
    },
    {
      "cell_type": "code",
      "execution_count": 8,
      "metadata": {},
      "outputs": [
        {
          "name": "stdout",
          "output_type": "stream",
          "text": [
            "2022-10-18 17:16:27,990 - INFO - Loading URLs for DMR downloads...\n"
          ]
        }
      ],
      "source": [
        "base_dmr_url = \"https://echo.epa.gov/files/echodownloads\"\n",
        "\n",
        "logger.info(f\"Loading URLs for DMR downloads...\")\n",
        "response = r.get(base_dmr_url)\n",
        "soup = BeautifulSoup(response.content, 'html.parser')\n",
        "links = soup.find_all('a')\n",
        "\n",
        "for item in links:\n",
        "  if \"npdes_dmrs_\" in item[\"href\"]:\n",
        "    download_urls.append(f'{base_dmr_url}/{item[\"href\"]}')"
      ]
    },
    {
      "cell_type": "markdown",
      "metadata": {},
      "source": [
        "### Initializing Variables"
      ]
    },
    {
      "cell_type": "code",
      "execution_count": 9,
      "metadata": {},
      "outputs": [],
      "source": [
        "zipfile_folder = \"zipfiles\"\n",
        "unzipped_folder = \"rawfiles\"\n",
        "database_folder = \"database\"\n",
        "extension = \".zip\"\n",
        "\n",
        "allowed_extensions = [\".txt\",\".csv\"]\n",
        "\n",
        "my_conn = None"
      ]
    },
    {
      "cell_type": "markdown",
      "metadata": {},
      "source": [
        "Now, to help us out to not download files that were already downloaded, lets generate a list of downloaded files"
      ]
    },
    {
      "cell_type": "code",
      "execution_count": 10,
      "metadata": {},
      "outputs": [],
      "source": [
        "downloaded_files = []\n",
        "for item in os.listdir(zipfile_folder):\n",
        "  downloaded_files.append(os.path.basename(urlparse(item).path))"
      ]
    },
    {
      "cell_type": "markdown",
      "metadata": {
        "id": "JCdaeWamFsTX"
      },
      "source": [
        "## Defining the environment"
      ]
    },
    {
      "cell_type": "code",
      "execution_count": 11,
      "metadata": {
        "colab": {
          "base_uri": "https://localhost:8080/"
        },
        "id": "_MXVLFcaE7sD",
        "outputId": "4b59d7b9-e1da-4792-9b77-e626bd67a320"
      },
      "outputs": [
        {
          "name": "stdout",
          "output_type": "stream",
          "text": [
            "2022-10-18 17:16:28,891 - INFO - Folders already created...\n"
          ]
        }
      ],
      "source": [
        "if create_folders:\n",
        "  if not os.path.exists(zipfile_folder): \n",
        "    os.mkdir(zipfile_folder)\n",
        "  if not os.path.exists(unzipped_folder): \n",
        "    os.mkdir(unzipped_folder)\n",
        "  if not os.path.exists(database_folder): \n",
        "    os.mkdir(database_folder)\n",
        "else:\n",
        "  logger.info(\"Folders already created...\")"
      ]
    },
    {
      "cell_type": "markdown",
      "metadata": {
        "id": "XRrvb3U21_lq"
      },
      "source": [
        "## Download zip files"
      ]
    },
    {
      "cell_type": "code",
      "execution_count": 12,
      "metadata": {
        "colab": {
          "base_uri": "https://localhost:8080/"
        },
        "id": "TvysEExu1zsp",
        "outputId": "aec3bbec-d75c-4784-f252-779f41b6df47"
      },
      "outputs": [
        {
          "name": "stdout",
          "output_type": "stream",
          "text": [
            "2022-10-18 17:16:28,937 - INFO - Starting download process. Total files to be downloaded: 62...\n"
          ]
        }
      ],
      "source": [
        "if download_files:\n",
        "  logger.info(f\"Starting download process. Total files to be downloaded: {len(download_urls)}...\")\n",
        "  for download_url in download_urls:\n",
        "    file_name = os.path.basename(urlparse(download_url).path)\n",
        "    table_name, ext =  os.path.splitext(file_name)\n",
        "    if file_name not in downloaded_files:\n",
        "      logger.info(f\"Downloading file {file_name}...\")\n",
        "      try:\n",
        "        response = r.get(download_url, allow_redirects=True)\n",
        "        with open(os.path.join(zipfile_folder, file_name), \"wb\") as fw:\n",
        "          fw.write(response.content)\n",
        "          logger.info(f\"--> File {file_name} saved.\")\n",
        "      except:\n",
        "          logger.error(f\"--> File {file_name} not downloaded.\")\n",
        "else:\n",
        "  logger.info(\"Files already downloaded...\")\n"
      ]
    },
    {
      "cell_type": "markdown",
      "metadata": {
        "id": "Y24JS1_z2yC3"
      },
      "source": [
        "## Unzip the files"
      ]
    },
    {
      "cell_type": "code",
      "execution_count": 15,
      "metadata": {
        "colab": {
          "base_uri": "https://localhost:8080/"
        },
        "id": "oh4q-wLe27qR",
        "outputId": "401fbb8c-9528-4d7f-c0e8-e2e9dbc8d383"
      },
      "outputs": [
        {
          "name": "stdout",
          "output_type": "stream",
          "text": [
            "2022-10-19 05:42:02,160 - INFO - Unzipping file case_downloads.zip...\n",
            "2022-10-19 05:42:05,375 - INFO - --> File case_downloads.zip unzipped.\n",
            "2022-10-19 05:42:05,375 - INFO - Unzipping file frs_downloads.zip...\n",
            "2022-10-19 05:42:14,880 - INFO - --> File frs_downloads.zip unzipped.\n",
            "2022-10-19 05:42:14,881 - INFO - Unzipping file npdes_dmrs_fy2009.zip...\n",
            "2022-10-19 05:42:35,232 - INFO - --> File npdes_dmrs_fy2009.zip unzipped.\n",
            "2022-10-19 05:42:35,233 - INFO - Unzipping file npdes_dmrs_fy2010.zip...\n",
            "2022-10-19 05:42:55,898 - INFO - --> File npdes_dmrs_fy2010.zip unzipped.\n",
            "2022-10-19 05:42:55,898 - INFO - Unzipping file npdes_dmrs_fy2011.zip...\n",
            "2022-10-19 05:43:17,397 - INFO - --> File npdes_dmrs_fy2011.zip unzipped.\n",
            "2022-10-19 05:43:17,398 - INFO - Unzipping file npdes_dmrs_fy2012.zip...\n",
            "2022-10-19 05:43:41,510 - INFO - --> File npdes_dmrs_fy2012.zip unzipped.\n",
            "2022-10-19 05:43:41,511 - INFO - Unzipping file npdes_dmrs_fy2013.zip...\n",
            "2022-10-19 05:44:06,698 - INFO - --> File npdes_dmrs_fy2013.zip unzipped.\n",
            "2022-10-19 05:44:06,698 - INFO - Unzipping file npdes_dmrs_fy2014.zip...\n",
            "2022-10-19 05:44:51,406 - INFO - --> File npdes_dmrs_fy2014.zip unzipped.\n",
            "2022-10-19 05:44:51,407 - INFO - Unzipping file npdes_dmrs_fy2015.zip...\n",
            "2022-10-19 05:45:42,580 - INFO - --> File npdes_dmrs_fy2015.zip unzipped.\n",
            "2022-10-19 05:45:42,581 - INFO - Unzipping file npdes_dmrs_fy2016.zip...\n",
            "2022-10-19 05:46:28,554 - INFO - --> File npdes_dmrs_fy2016.zip unzipped.\n",
            "2022-10-19 05:46:28,556 - INFO - Unzipping file npdes_dmrs_fy2017.zip...\n",
            "2022-10-19 05:47:16,457 - INFO - --> File npdes_dmrs_fy2017.zip unzipped.\n",
            "2022-10-19 05:47:16,458 - INFO - Unzipping file npdes_dmrs_fy2018.zip...\n",
            "2022-10-19 05:48:10,519 - INFO - --> File npdes_dmrs_fy2018.zip unzipped.\n",
            "2022-10-19 05:48:10,520 - INFO - Unzipping file npdes_dmrs_fy2019.zip...\n",
            "2022-10-19 05:49:02,867 - INFO - --> File npdes_dmrs_fy2019.zip unzipped.\n",
            "2022-10-19 05:49:02,868 - INFO - Unzipping file npdes_dmrs_fy2020.zip...\n",
            "2022-10-19 05:49:56,326 - INFO - --> File npdes_dmrs_fy2020.zip unzipped.\n",
            "2022-10-19 05:49:56,327 - INFO - Unzipping file npdes_dmrs_fy2021.zip...\n",
            "2022-10-19 05:50:48,489 - INFO - --> File npdes_dmrs_fy2021.zip unzipped.\n",
            "2022-10-19 05:50:48,490 - INFO - Unzipping file npdes_dmrs_fy2022.zip...\n",
            "2022-10-19 05:51:35,543 - INFO - --> File npdes_dmrs_fy2022.zip unzipped.\n",
            "2022-10-19 05:51:35,544 - INFO - Unzipping file npdes_dmrs_prefy2009.zip...\n",
            "2022-10-19 05:54:14,343 - INFO - --> File npdes_dmrs_prefy2009.zip unzipped.\n",
            "2022-10-19 05:54:14,346 - INFO - Unzipping file npdes_downloads.zip...\n",
            "2022-10-19 05:54:26,101 - INFO - --> File npdes_downloads.zip unzipped.\n",
            "2022-10-19 05:54:26,101 - INFO - Unzipping file npdes_eff_downloads.zip...\n",
            "2022-10-19 05:56:21,200 - INFO - --> File npdes_eff_downloads.zip unzipped.\n",
            "2022-10-19 05:56:21,202 - INFO - Unzipping file npdes_limits.zip...\n",
            "2022-10-19 05:56:52,718 - INFO - --> File npdes_limits.zip unzipped.\n",
            "2022-10-19 05:56:52,719 - INFO - Unzipping file npdes_master_general_permits.zip...\n",
            "2022-10-19 05:56:52,774 - INFO - --> File npdes_master_general_permits.zip unzipped.\n",
            "2022-10-19 05:56:52,775 - INFO - Unzipping file npdes_outfalls_layer.zip...\n",
            "2022-10-19 05:56:55,211 - INFO - --> File npdes_outfalls_layer.zip unzipped.\n",
            "2022-10-19 05:56:55,212 - INFO - Skipping file ResultFileToEnd2Output20170913120959.csv.gz.\n",
            "2022-10-19 05:56:55,213 - INFO - Skipping file ResultFileToEnd2Output20180518134759.csv.gz.\n",
            "2022-10-19 05:56:55,214 - INFO - Skipping file ResultFileToEnd2Output20190923145053.csv.gz.\n",
            "2022-10-19 05:56:55,215 - INFO - Skipping file ResultFileToEnd2Output20210604151132.csv.gz.\n",
            "2022-10-19 05:56:55,215 - INFO - Unzipping file SDWA_latest_downloads.zip...\n",
            "2022-10-19 05:57:20,523 - INFO - --> File SDWA_latest_downloads.zip unzipped.\n",
            "2022-10-19 05:57:20,524 - INFO - Unzipping file US_1987.zip...\n",
            "2022-10-19 05:57:22,912 - INFO - --> File US_1987.zip unzipped.\n",
            "2022-10-19 05:57:22,913 - INFO - Unzipping file US_1988.zip...\n",
            "2022-10-19 05:57:25,861 - INFO - --> File US_1988.zip unzipped.\n",
            "2022-10-19 05:57:25,862 - INFO - Unzipping file US_1989.zip...\n",
            "2022-10-19 05:57:29,267 - INFO - --> File US_1989.zip unzipped.\n",
            "2022-10-19 05:57:29,268 - INFO - Unzipping file US_1990.zip...\n",
            "2022-10-19 05:57:31,349 - INFO - --> File US_1990.zip unzipped.\n",
            "2022-10-19 05:57:31,350 - INFO - Unzipping file US_1991.zip...\n",
            "2022-10-19 05:57:34,374 - INFO - --> File US_1991.zip unzipped.\n",
            "2022-10-19 05:57:34,375 - INFO - Unzipping file US_1992.zip...\n",
            "2022-10-19 05:57:37,231 - INFO - --> File US_1992.zip unzipped.\n",
            "2022-10-19 05:57:37,232 - INFO - Unzipping file US_1993.zip...\n",
            "2022-10-19 05:57:40,230 - INFO - --> File US_1993.zip unzipped.\n",
            "2022-10-19 05:57:40,231 - INFO - Unzipping file US_1994.zip...\n",
            "2022-10-19 05:57:43,102 - INFO - --> File US_1994.zip unzipped.\n",
            "2022-10-19 05:57:43,103 - INFO - Unzipping file US_1995.zip...\n",
            "2022-10-19 05:57:45,426 - INFO - --> File US_1995.zip unzipped.\n",
            "2022-10-19 05:57:45,428 - INFO - Unzipping file US_1996.zip...\n",
            "2022-10-19 05:57:48,005 - INFO - --> File US_1996.zip unzipped.\n",
            "2022-10-19 05:57:48,006 - INFO - Unzipping file US_1997.zip...\n",
            "2022-10-19 05:57:50,835 - INFO - --> File US_1997.zip unzipped.\n",
            "2022-10-19 05:57:50,836 - INFO - Unzipping file US_1998.zip...\n",
            "2022-10-19 05:57:53,183 - INFO - --> File US_1998.zip unzipped.\n",
            "2022-10-19 05:57:53,184 - INFO - Unzipping file US_1999.zip...\n",
            "2022-10-19 05:57:56,730 - INFO - --> File US_1999.zip unzipped.\n",
            "2022-10-19 05:57:56,731 - INFO - Unzipping file US_2000.zip...\n",
            "2022-10-19 05:58:00,320 - INFO - --> File US_2000.zip unzipped.\n",
            "2022-10-19 05:58:00,321 - INFO - Unzipping file US_2001.zip...\n",
            "2022-10-19 05:58:03,599 - INFO - --> File US_2001.zip unzipped.\n",
            "2022-10-19 05:58:03,600 - INFO - Unzipping file US_2002.zip...\n",
            "2022-10-19 05:58:06,323 - INFO - --> File US_2002.zip unzipped.\n",
            "2022-10-19 05:58:06,323 - INFO - Unzipping file US_2003.zip...\n",
            "2022-10-19 05:58:09,857 - INFO - --> File US_2003.zip unzipped.\n",
            "2022-10-19 05:58:09,858 - INFO - Unzipping file US_2004.zip...\n",
            "2022-10-19 05:58:12,705 - INFO - --> File US_2004.zip unzipped.\n",
            "2022-10-19 05:58:12,706 - INFO - Unzipping file US_2005.zip...\n",
            "2022-10-19 05:58:16,230 - INFO - --> File US_2005.zip unzipped.\n",
            "2022-10-19 05:58:16,231 - INFO - Unzipping file US_2006.zip...\n",
            "2022-10-19 05:58:19,411 - INFO - --> File US_2006.zip unzipped.\n",
            "2022-10-19 05:58:19,411 - INFO - Unzipping file US_2007.zip...\n",
            "2022-10-19 05:58:22,392 - INFO - --> File US_2007.zip unzipped.\n",
            "2022-10-19 05:58:22,393 - INFO - Unzipping file US_2008.zip...\n",
            "2022-10-19 05:58:25,578 - INFO - --> File US_2008.zip unzipped.\n",
            "2022-10-19 05:58:25,579 - INFO - Unzipping file US_2009.zip...\n",
            "2022-10-19 05:58:28,042 - INFO - --> File US_2009.zip unzipped.\n",
            "2022-10-19 05:58:28,043 - INFO - Unzipping file US_2010.zip...\n",
            "2022-10-19 05:58:31,007 - INFO - --> File US_2010.zip unzipped.\n",
            "2022-10-19 05:58:31,007 - INFO - Unzipping file US_2011.zip...\n",
            "2022-10-19 05:58:34,252 - INFO - --> File US_2011.zip unzipped.\n",
            "2022-10-19 05:58:34,253 - INFO - Unzipping file US_2012.zip...\n",
            "2022-10-19 05:58:37,298 - INFO - --> File US_2012.zip unzipped.\n",
            "2022-10-19 05:58:37,300 - INFO - Unzipping file US_2013.zip...\n",
            "2022-10-19 05:58:41,289 - INFO - --> File US_2013.zip unzipped.\n",
            "2022-10-19 05:58:41,289 - INFO - Unzipping file US_2014.zip...\n",
            "2022-10-19 05:58:44,311 - INFO - --> File US_2014.zip unzipped.\n",
            "2022-10-19 05:58:44,312 - INFO - Unzipping file US_2015.zip...\n",
            "2022-10-19 05:58:47,472 - INFO - --> File US_2015.zip unzipped.\n",
            "2022-10-19 05:58:47,473 - INFO - Unzipping file US_2016.zip...\n",
            "2022-10-19 05:58:50,796 - INFO - --> File US_2016.zip unzipped.\n",
            "2022-10-19 05:58:50,797 - INFO - Unzipping file US_2017.zip...\n",
            "2022-10-19 05:58:53,942 - INFO - --> File US_2017.zip unzipped.\n",
            "2022-10-19 05:58:53,943 - INFO - Unzipping file US_2018.zip...\n",
            "2022-10-19 05:58:57,176 - INFO - --> File US_2018.zip unzipped.\n",
            "2022-10-19 05:58:57,177 - INFO - Unzipping file US_2019.zip...\n",
            "2022-10-19 05:59:00,640 - INFO - --> File US_2019.zip unzipped.\n",
            "2022-10-19 05:59:00,641 - INFO - Unzipping file US_2020.zip...\n",
            "2022-10-19 05:59:03,916 - INFO - --> File US_2020.zip unzipped.\n",
            "2022-10-19 05:59:03,917 - INFO - Unzipping file US_2021.zip...\n",
            "2022-10-19 05:59:07,266 - INFO - --> File US_2021.zip unzipped.\n"
          ]
        }
      ],
      "source": [
        "if unzip_files:\n",
        "  for item in os.listdir(zipfile_folder):\n",
        "    if item.endswith(extension): \n",
        "      logger.info(f\"Unzipping file {item}...\")\n",
        "      try:\n",
        "        file_name = os.path.abspath(os.path.join(zipfile_folder, item)) \n",
        "        zip_ref = zipfile.ZipFile(file_name)\n",
        "        zip_ref.extractall(unzipped_folder)\n",
        "        zip_ref.close()\n",
        "        logger.info(f\"--> File {item} unzipped.\")\n",
        "      except:\n",
        "        logger.error(f\"--> File {item} not unzipped.\")\n",
        "    elif item.endswith(\".gz\")  and item not in downloaded_files:\n",
        "      logger.info(f\"Decompressing file {item}...\")\n",
        "      try:\n",
        "        file_name = os.path.abspath(os.path.join(zipfile_folder, item)) \n",
        "        new_file_name = os.path.abspath(os.path.join(unzipped_folder, item.replace(\".gz\",\"\"))) \n",
        "        file_out = gzip.decompress(open(file_name, 'rb').read())\n",
        "        with open(new_file_name, 'wb') as fw:\n",
        "          fw.write(file_out)\n",
        "        logger.info(f\"File {new_file_name} decompressed and saved...\")        \n",
        "      except:\n",
        "        logger.error(f\"--> File {item} not decompressed.\")\n",
        "    else:\n",
        "      logger.info(f\"Skipping file {item}.\")\n",
        "else:\n",
        "  logger.info(\"Files already unzipped...\")"
      ]
    },
    {
      "cell_type": "markdown",
      "metadata": {},
      "source": [
        "## Removing files not used"
      ]
    },
    {
      "cell_type": "code",
      "execution_count": 16,
      "metadata": {},
      "outputs": [
        {
          "name": "stdout",
          "output_type": "stream",
          "text": [
            "2022-10-19 07:35:18,649 - INFO - Preparing list of files to be processed...\n"
          ]
        }
      ],
      "source": [
        "logger.info(\"Preparing list of files to be processed...\")\n",
        "list_of_files = filter(os.path.isfile, glob.glob(unzipped_folder + '/*') )\n",
        "files = [os.path.basename(item) for item in list_of_files]\n",
        "\n",
        "for item in files:\n",
        "  table_name, file_ext = os.path.splitext(os.path.basename(item))\n",
        "  if table_name.lower() not in os.getenv('USED_SOURCE'):\n",
        "    os.remove(os.path.join(unzipped_folder, item))\n"
      ]
    }
  ],
  "metadata": {
    "colab": {
      "collapsed_sections": [],
      "include_colab_link": true,
      "name": "Data Exploration.ipynb",
      "provenance": []
    },
    "kernelspec": {
      "display_name": "Python 3.9.6 ('venv': venv)",
      "language": "python",
      "name": "python3"
    },
    "language_info": {
      "codemirror_mode": {
        "name": "ipython",
        "version": 3
      },
      "file_extension": ".py",
      "mimetype": "text/x-python",
      "name": "python",
      "nbconvert_exporter": "python",
      "pygments_lexer": "ipython3",
      "version": "3.9.6"
    },
    "vscode": {
      "interpreter": {
        "hash": "2699b20de84054a0debfded0092f82ecde8069d2acfd0beccd8a223bb7c57c3a"
      }
    }
  },
  "nbformat": 4,
  "nbformat_minor": 0
}
