{
  "cells": [
    {
      "cell_type": "markdown",
      "metadata": {
        "colab_type": "text",
        "id": "view-in-github"
      },
      "source": [
        "<a href=\"https://colab.research.google.com/github/WalterPaixaoCortes/r3s-scripts/blob/main/notebooks/Data_Exploration.ipynb\" target=\"_parent\"><img src=\"https://colab.research.google.com/assets/colab-badge.svg\" alt=\"Open In Colab\"/></a>"
      ]
    },
    {
      "cell_type": "markdown",
      "metadata": {
        "id": "SYUysU-5pPrt"
      },
      "source": [
        "# Source Database Load"
      ]
    },
    {
      "cell_type": "markdown",
      "metadata": {
        "id": "LTQ9zNqnFwMz"
      },
      "source": [
        "## Importing libraries"
      ]
    },
    {
      "cell_type": "code",
      "execution_count": 1,
      "metadata": {
        "id": "hem7KqcEnEo1"
      },
      "outputs": [],
      "source": [
        "import datetime\n",
        "import gc\n",
        "import glob\n",
        "import logging\n",
        "import os\n",
        "import sqlite3\n",
        "import sys\n",
        "import traceback\n",
        "from logging.handlers import TimedRotatingFileHandler\n",
        "\n",
        "import pandas as pd\n",
        "from dotenv import load_dotenv\n",
        "from sqlalchemy import create_engine, event"
      ]
    },
    {
      "cell_type": "markdown",
      "metadata": {},
      "source": [
        "### Load Environment Variables"
      ]
    },
    {
      "cell_type": "code",
      "execution_count": 2,
      "metadata": {},
      "outputs": [
        {
          "data": {
            "text/plain": [
              "True"
            ]
          },
          "execution_count": 2,
          "metadata": {},
          "output_type": "execute_result"
        }
      ],
      "source": [
        "load_dotenv()"
      ]
    },
    {
      "cell_type": "markdown",
      "metadata": {},
      "source": [
        "## Defining the parameters for execution"
      ]
    },
    {
      "cell_type": "code",
      "execution_count": 3,
      "metadata": {},
      "outputs": [],
      "source": [
        "create_folders = eval(os.getenv('CREATE_FOLDERS'))\n",
        "use_sqlite = eval(os.getenv('USE_SQLITE3'))\n",
        "clean_database = eval(os.getenv('CLEAN_DATABASE'))\n",
        "save_to_database = True\n",
        "commit_size = 10000\n",
        "used_source = eval(os.getenv('USED_SOURCE'))"
      ]
    },
    {
      "cell_type": "markdown",
      "metadata": {
        "id": "SzhDfwfZ5Wxm"
      },
      "source": [
        "## Defining the variables"
      ]
    },
    {
      "cell_type": "markdown",
      "metadata": {},
      "source": [
        "### Initializing Logger"
      ]
    },
    {
      "cell_type": "code",
      "execution_count": 4,
      "metadata": {},
      "outputs": [],
      "source": [
        "fhandler = TimedRotatingFileHandler(\"logs/source_db_load.log\", when=\"midnight\", interval=1)\n",
        "fhandler.suffix = \"%Y%m%d\"\n",
        "logging.basicConfig(\n",
        "        level=logging.INFO,\n",
        "        format=\"%(asctime)s - %(levelname)s - %(message)s\",\n",
        "        handlers=[fhandler, logging.StreamHandler(sys.stdout)],\n",
        "    )\n",
        "logger = logging.getLogger(__name__)"
      ]
    },
    {
      "cell_type": "markdown",
      "metadata": {},
      "source": [
        "### Initializing Variables"
      ]
    },
    {
      "cell_type": "code",
      "execution_count": 5,
      "metadata": {},
      "outputs": [],
      "source": [
        "unzipped_folder = \"rawfiles\"\n",
        "database_folder = \"database\"\n",
        "extension = \".zip\"\n",
        "\n",
        "allowed_extensions = [\".txt\",\".csv\"]\n",
        "database_name = f\"{database_folder}/source.db\"\n",
        "\n",
        "my_conn = None"
      ]
    },
    {
      "cell_type": "markdown",
      "metadata": {
        "id": "JCdaeWamFsTX"
      },
      "source": [
        "## Defining the environment"
      ]
    },
    {
      "cell_type": "code",
      "execution_count": 6,
      "metadata": {
        "colab": {
          "base_uri": "https://localhost:8080/"
        },
        "id": "_MXVLFcaE7sD",
        "outputId": "4b59d7b9-e1da-4792-9b77-e626bd67a320"
      },
      "outputs": [
        {
          "name": "stdout",
          "output_type": "stream",
          "text": [
            "2022-10-21 15:31:07,158 - INFO - Folders already created...\n"
          ]
        }
      ],
      "source": [
        "if create_folders:\n",
        "  if not os.path.exists(database_folder): \n",
        "    os.mkdir(database_folder)\n",
        "else:\n",
        "  logger.info(\"Folders already created...\")"
      ]
    },
    {
      "cell_type": "markdown",
      "metadata": {},
      "source": [
        "## Cleaning up database"
      ]
    },
    {
      "cell_type": "code",
      "execution_count": 7,
      "metadata": {
        "id": "tX7cP_S2qUmh"
      },
      "outputs": [
        {
          "name": "stdout",
          "output_type": "stream",
          "text": [
            "2022-10-21 15:31:07,189 - INFO - Cleaning database to restart insert operation...\n"
          ]
        }
      ],
      "source": [
        "if use_sqlite and clean_database:\n",
        "  logger.info (\"Cleaning database to restart insert operation...\")\n",
        "  if os.path.exists(database_name):\n",
        "    if my_conn:\n",
        "      my_conn.close()\n",
        "    os.remove(database_name)\n",
        "else:\n",
        "  logger.info(\"Database will be used as is...\")"
      ]
    },
    {
      "cell_type": "markdown",
      "metadata": {},
      "source": [
        "## Connecting or Creating database"
      ]
    },
    {
      "cell_type": "code",
      "execution_count": 8,
      "metadata": {},
      "outputs": [
        {
          "name": "stdout",
          "output_type": "stream",
          "text": [
            "2022-10-21 15:31:07,841 - INFO - Connected to database...\n"
          ]
        }
      ],
      "source": [
        "my_conn = None\n",
        "if use_sqlite:\n",
        "  my_conn=sqlite3.connect(database_name)\n",
        "else:\n",
        "  logger.info(os.getenv(\"PG_DATA_CONN\"))\n",
        "  my_conn = create_engine(os.getenv(\"PG_DATA_CONN\"))  \n",
        "logger.info(\"Connected to database...\")"
      ]
    },
    {
      "cell_type": "markdown",
      "metadata": {},
      "source": [
        "## Save to database"
      ]
    },
    {
      "cell_type": "code",
      "execution_count": 9,
      "metadata": {
        "colab": {
          "base_uri": "https://localhost:8080/"
        },
        "id": "TWu3qqSva92k",
        "outputId": "c059275a-2e5a-4c23-d5e8-5545405d3abf"
      },
      "outputs": [
        {
          "name": "stdout",
          "output_type": "stream",
          "text": [
            "2022-10-21 15:31:07,879 - INFO - Preparing list of files to be processed...\n",
            "2022-10-21 15:31:07,929 - INFO - File wifia_loans_closed.csv saved on the database...\n",
            "2022-10-21 15:31:08,015 - INFO - File wifia_projects_selected.csv saved on the database...\n",
            "2022-10-21 15:31:08,103 - INFO - File wifia_letters_submitted.csv saved on the database...\n",
            "2022-10-21 15:31:08,224 - INFO - File ICIS_MASTER_GENERAL_PERMITS.csv saved on the database...\n",
            "2022-10-21 15:31:08,403 - INFO - File EPA_INFORMAL_ENFORCEMENT_ACTIONS.csv saved on the database...\n",
            "2022-10-21 15:31:08,540 - INFO - File CASE_ENFORCEMENT_CONCLUSION_SEP.csv saved on the database...\n",
            "2022-10-21 15:31:08,769 - INFO - File CASE_RELATED_ACTIVITIES.csv saved on the database...\n",
            "2022-10-21 15:31:09,041 - INFO - File CASE_RELIEF_SOUGHT.csv saved on the database...\n",
            "2022-10-21 15:31:09,544 - INFO - File CASE_POLLUTANTS.csv saved on the database...\n",
            "2022-10-21 15:31:10,224 - INFO - File CASE_PENALTIES.csv saved on the database...\n",
            "2022-10-21 15:31:10,652 - INFO - File NPDES_NAICS.csv saved on the database...\n",
            "2022-10-21 15:31:11,636 - INFO - File CASE_ENFORCEMENT_CONCLUSION_DOLLARS.csv saved on the database...\n",
            "2022-10-21 15:31:12,588 - INFO - File CASE_VIOLATIONS.csv saved on the database...\n",
            "2022-10-21 15:31:13,294 - INFO - File CASE_ENFORCEMENT_CONCLUSION_POLLUTANTS.csv saved on the database...\n",
            "2022-10-21 15:31:14,044 - INFO - File CASE_ENFORCEMENT_TYPE.csv saved on the database...\n",
            "2022-10-21 15:31:15,136 - INFO - File CASE_DEFENDANTS.csv saved on the database...\n",
            "2022-10-21 15:31:15,999 - INFO - File NPDES_FORMAL_ENFORCEMENT_ACTIONS.csv saved on the database...\n",
            "2022-10-21 15:31:17,111 - INFO - File CASE_LAW_SECTIONS.csv saved on the database...\n",
            "2022-10-21 15:31:18,441 - INFO - File CASE_ENFORCEMENT_CONCLUSIONS.csv saved on the database...\n",
            "2022-10-21 15:31:19,347 - INFO - File NPDES_CS_VIOLATIONS.csv saved on the database...\n",
            "2022-10-21 15:31:21,210 - INFO - File NPDES_SICS.csv saved on the database...\n",
            "2022-10-21 15:31:22,961 - INFO - File CASE_FACILITIES.csv saved on the database...\n",
            "2022-10-21 15:31:24,348 - INFO - File CASE_ENFORCEMENT_CONCLUSION_COMPLYING_ACTIONS.csv saved on the database...\n",
            "2022-10-21 15:31:27,194 - INFO - File NPDES_PERM_COMPONENTS.csv saved on the database...\n",
            "2022-10-21 15:31:31,183 - INFO - File NPDES_PERM_FEATURE_COORDS.csv saved on the database...\n",
            "2022-10-21 15:31:33,796 - INFO - File CASE_PROGRAMS.csv saved on the database...\n",
            "2022-10-21 15:31:39,056 - INFO - File FRS_SIC_CODES.csv saved on the database...\n",
            "2022-10-21 15:31:42,663 - INFO - File NPDES_SE_VIOLATIONS.csv saved on the database...\n",
            "2022-10-21 15:31:48,953 - INFO - File NPDES_PS_VIOLATIONS.csv saved on the database...\n",
            "2022-10-21 15:32:02,246 - INFO - File FRS_NAICS_CODES.csv saved on the database...\n",
            "2022-10-21 15:32:06,650 - INFO - File CASE_ENFORCEMENTS.csv saved on the database...\n",
            "2022-10-21 15:32:15,985 - INFO - File NPDES_INFORMAL_ENFORCEMENT_ACTIONS.csv saved on the database...\n",
            "2022-10-21 15:32:32,398 - INFO - File ICIS_FACILITIES.csv saved on the database...\n",
            "2022-10-21 15:32:52,767 - INFO - File NPDES_INSPECTIONS.csv saved on the database...\n",
            "2022-10-21 15:33:28,656 - INFO - File NPDES_QNCR_HISTORY.csv saved on the database...\n",
            "2022-10-21 15:33:55,561 - INFO - File ICIS_PERMITS.csv saved on the database...\n",
            "2022-10-21 15:34:23,196 - INFO - File FRS_FACILITIES.csv saved on the database...\n",
            "2022-10-21 15:34:43,588 - INFO - File npdes_outfalls_layer.csv saved on the database...\n",
            "2022-10-21 15:35:20,335 - INFO - File NPDES_VIOLATION_ENFORCEMENTS.csv saved on the database...\n",
            "2022-10-21 15:36:15,634 - INFO - File FRS_PROGRAM_LINKS.csv saved on the database...\n",
            "2022-10-21 15:42:21,905 - INFO - File NPDES_LIMITS.csv saved on the database...\n",
            "2022-10-21 16:02:23,351 - INFO - File NPDES_EFF_VIOLATIONS.csv saved on the database...\n"
          ]
        }
      ],
      "source": [
        "if save_to_database:\n",
        "  logger.info(\"Preparing list of files to be processed...\")\n",
        "  list_of_files = filter(os.path.isfile, glob.glob(unzipped_folder + '/*') )\n",
        "  list_of_files = sorted(list_of_files, key =  lambda x: os.stat(x).st_size)  \n",
        "  files = [os.path.basename(item) for item in list_of_files]\n",
        "  \n",
        "  for item in files:\n",
        "    table_name, file_ext = os.path.splitext(os.path.basename(item))\n",
        "\n",
        "    if table_name.lower() in used_source:\n",
        "      df = None\n",
        "      if file_ext in allowed_extensions and not table_name.startswith(\"ResultFile\"):\n",
        "        second = False\n",
        "        if not table_name.startswith(\"US\"):\n",
        "          try:\n",
        "            for df in pd.read_csv(os.path.join(unzipped_folder, item), encoding=\"iso-8859-1\", index_col=False, chunksize=commit_size, dtype=str, on_bad_lines=\"skip\", encoding_errors=\"replace\"):\n",
        "              df.columns = df.columns.str.lower()\n",
        "              df.to_sql(table_name.lower(), my_conn, schema=\"source\",\n",
        "                      if_exists=\"append\", \n",
        "                      index=False)\n",
        "            logger.info(f\"File {item} saved on the database...\")\n",
        "          except:\n",
        "            logger.error(traceback.format_exc())\n",
        "            second = True\n",
        "        else:\n",
        "          second = True\n",
        "          \n",
        "        if second:\n",
        "          try:      \n",
        "            for df in pd.read_csv(os.path.join(unzipped_folder, item), encoding=\"iso-8859-1\", sep=\"\\t\", index_col=False, chunksize=commit_size, dtype=str, on_bad_lines=\"skip\", encoding_errors=\"replace\"):\n",
        "              df.columns = df.columns.str.lower()\n",
        "              df.to_sql(table_name.lower(), my_conn,  schema=\"source\",\n",
        "                      if_exists=\"append\", \n",
        "                      index=False)\n",
        "            logger.info(f\"File {item} saved on the database...\")\n",
        "          except:\n",
        "            logger.error(f\"File {item} not saved on the database...\")\n",
        "    gc.collect()\n",
        "\n",
        "else:\n",
        "  logger.info(\"Database already loaded...\")"
      ]
    },
    {
      "cell_type": "markdown",
      "metadata": {},
      "source": [
        "## Closing the Database Connection"
      ]
    },
    {
      "cell_type": "code",
      "execution_count": 10,
      "metadata": {
        "colab": {
          "base_uri": "https://localhost:8080/",
          "height": 165
        },
        "id": "9-W2GCRhv0xE",
        "outputId": "cf40c9c8-b8ad-433c-888d-26a1dd56574c"
      },
      "outputs": [],
      "source": [
        "if use_sqlite:\n",
        "  my_conn.close()"
      ]
    }
  ],
  "metadata": {
    "colab": {
      "collapsed_sections": [],
      "include_colab_link": true,
      "name": "Data Exploration.ipynb",
      "provenance": []
    },
    "kernelspec": {
      "display_name": "Python 3.9.6 ('venv': venv)",
      "language": "python",
      "name": "python3"
    },
    "language_info": {
      "codemirror_mode": {
        "name": "ipython",
        "version": 3
      },
      "file_extension": ".py",
      "mimetype": "text/x-python",
      "name": "python",
      "nbconvert_exporter": "python",
      "pygments_lexer": "ipython3",
      "version": "3.9.6"
    },
    "vscode": {
      "interpreter": {
        "hash": "2699b20de84054a0debfded0092f82ecde8069d2acfd0beccd8a223bb7c57c3a"
      }
    }
  },
  "nbformat": 4,
  "nbformat_minor": 0
}
