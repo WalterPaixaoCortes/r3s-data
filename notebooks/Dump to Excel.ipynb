{
 "cells": [
  {
   "cell_type": "markdown",
   "metadata": {},
   "source": [
    "# Dump Model to Excel"
   ]
  },
  {
   "cell_type": "markdown",
   "metadata": {},
   "source": [
    "## Libraries"
   ]
  },
  {
   "cell_type": "code",
   "execution_count": 1,
   "metadata": {},
   "outputs": [],
   "source": [
    "import os\n",
    "import datetime\n",
    "import traceback\n",
    "import logging\n",
    "import sqlite3\n",
    "import sys\n",
    "\n",
    "from logging.handlers import TimedRotatingFileHandler\n",
    "from dotenv import load_dotenv\n",
    "from sqlalchemy import event\n",
    "from sqlalchemy import create_engine\n",
    "\n",
    "import pandas as pd"
   ]
  },
  {
   "cell_type": "markdown",
   "metadata": {},
   "source": [
    "## Environment Setting"
   ]
  },
  {
   "cell_type": "code",
   "execution_count": 2,
   "metadata": {},
   "outputs": [],
   "source": [
    "use_sqlite = False\n",
    "fhandler = TimedRotatingFileHandler(\"logs/dump_model.log\", when=\"midnight\", interval=1)\n",
    "fhandler.suffix = \"%Y%m%d\"\n",
    "logging.basicConfig(\n",
    "        level=logging.INFO,\n",
    "        format=\"%(asctime)s - %(levelname)s - %(message)s\",\n",
    "        handlers=[fhandler, logging.StreamHandler(sys.stdout)],\n",
    "    )\n",
    "logger = logging.getLogger(__name__)\n",
    "\n",
    "database_folder = \"database\"\n",
    "database_name = f\"{database_folder}/main.db\"\n",
    "\n",
    "load_dotenv()\n",
    "\n",
    "excel_file = \"excelfiles/{0}.csv\""
   ]
  },
  {
   "cell_type": "markdown",
   "metadata": {},
   "source": [
    "## Connecting to Database"
   ]
  },
  {
   "cell_type": "code",
   "execution_count": 3,
   "metadata": {},
   "outputs": [],
   "source": [
    "my_conn = None\n",
    "if use_sqlite:\n",
    "  my_conn = sqlite3.connect(database_name)\n",
    "else:\n",
    "  my_conn = create_engine(os.getenv(\"PG_DATA_CONN\"))  "
   ]
  },
  {
   "cell_type": "markdown",
   "metadata": {},
   "source": [
    "## Routine"
   ]
  },
  {
   "cell_type": "code",
   "execution_count": 4,
   "metadata": {},
   "outputs": [
    {
     "name": "stdout",
     "output_type": "stream",
     "text": [
      "2022-09-13 13:30:03,449 - INFO - Reading table fact_programs...\n",
      "2022-09-13 13:30:04,824 - INFO - Saving table fact_programs to file...\n"
     ]
    }
   ],
   "source": [
    "SQL_TABLES = \"\"\n",
    "if use_sqlite:\n",
    "  SQL_TABLES = \"select * from sqlite_schema\"\n",
    "else:\n",
    "  SQL_TABLES = \"select table_name as name from information_schema.tables WHERE table_shema = 'main' AND table_type = 'BASE TABLE'\"\n",
    "\n",
    "tables = pd.read_sql(, my_conn)\n",
    "\n",
    "for idx in range(tables['name'].size):\n",
    "  logger.info(f\"Reading table {tables['name'][idx]}...\")\n",
    "  table_data = pd.read_sql(f\"select * from {tables['name'][idx]}\", my_conn)\n",
    "  if table_data.size > 0:\n",
    "    logger.info(f\"Saving table {tables['name'][idx]} to file...\")\n",
    "    table_data.to_csv(excel_file.format(tables['name'][idx]))\n"
   ]
  }
 ],
 "metadata": {
  "kernelspec": {
   "display_name": "Python 3.9.6 ('venv': venv)",
   "language": "python",
   "name": "python3"
  },
  "language_info": {
   "codemirror_mode": {
    "name": "ipython",
    "version": 3
   },
   "file_extension": ".py",
   "mimetype": "text/x-python",
   "name": "python",
   "nbconvert_exporter": "python",
   "pygments_lexer": "ipython3",
   "version": "3.9.6"
  },
  "orig_nbformat": 4,
  "vscode": {
   "interpreter": {
    "hash": "cb3e5365f865ba04769fee69367f1bd90706cdadd21dbb2d03785d9fb41b8a9c"
   }
  }
 },
 "nbformat": 4,
 "nbformat_minor": 2
}
