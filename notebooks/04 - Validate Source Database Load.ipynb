{
  "cells": [
    {
      "cell_type": "markdown",
      "metadata": {
        "colab_type": "text",
        "id": "view-in-github"
      },
      "source": [
        "<a href=\"https://colab.research.google.com/github/WalterPaixaoCortes/r3s-scripts/blob/main/notebooks/Data_Exploration.ipynb\" target=\"_parent\"><img src=\"https://colab.research.google.com/assets/colab-badge.svg\" alt=\"Open In Colab\"/></a>"
      ]
    },
    {
      "cell_type": "markdown",
      "metadata": {
        "id": "SYUysU-5pPrt"
      },
      "source": [
        "# Validate Source Database Load"
      ]
    },
    {
      "cell_type": "markdown",
      "metadata": {
        "id": "LTQ9zNqnFwMz"
      },
      "source": [
        "## Importing libraries"
      ]
    },
    {
      "cell_type": "code",
      "execution_count": 1,
      "metadata": {
        "id": "hem7KqcEnEo1"
      },
      "outputs": [],
      "source": [
        "import os\n",
        "import datetime\n",
        "import traceback\n",
        "import glob\n",
        "import gc\n",
        "import logging\n",
        "import sqlite3\n",
        "import sys\n",
        "\n",
        "from sqlalchemy import event\n",
        "from sqlalchemy import create_engine\n",
        "from logging.handlers import TimedRotatingFileHandler\n",
        "from dotenv import load_dotenv\n",
        "\n",
        "import pandas as pd"
      ]
    },
    {
      "cell_type": "markdown",
      "metadata": {},
      "source": [
        "## Declaring auxiliary functions"
      ]
    },
    {
      "cell_type": "code",
      "execution_count": 2,
      "metadata": {},
      "outputs": [],
      "source": [
        "def count_lines(file_name):\n",
        "    fp = open(file_name,'r', encoding=\"iso-8859-1\")\n",
        "    for line_count, line in enumerate(fp):\n",
        "        pass\n",
        "    return line_count\n"
      ]
    },
    {
      "cell_type": "markdown",
      "metadata": {},
      "source": [
        "## Load Environment Variables"
      ]
    },
    {
      "cell_type": "code",
      "execution_count": 3,
      "metadata": {},
      "outputs": [
        {
          "data": {
            "text/plain": [
              "True"
            ]
          },
          "execution_count": 3,
          "metadata": {},
          "output_type": "execute_result"
        }
      ],
      "source": [
        "load_dotenv()"
      ]
    },
    {
      "cell_type": "markdown",
      "metadata": {},
      "source": [
        "## Defining the parameters for execution"
      ]
    },
    {
      "cell_type": "code",
      "execution_count": 4,
      "metadata": {},
      "outputs": [],
      "source": [
        "use_sqlite = eval(os.getenv('USE_SQLITE3'))\n",
        "used_source = eval(os.getenv('USED_SOURCE'))\n",
        "validate_process = True"
      ]
    },
    {
      "cell_type": "markdown",
      "metadata": {
        "id": "SzhDfwfZ5Wxm"
      },
      "source": [
        "## Defining the variables"
      ]
    },
    {
      "cell_type": "markdown",
      "metadata": {},
      "source": [
        "### Initializing Logger"
      ]
    },
    {
      "cell_type": "code",
      "execution_count": 5,
      "metadata": {},
      "outputs": [],
      "source": [
        "fhandler = TimedRotatingFileHandler(\"logs/validate_source_db_load.log\", when=\"midnight\", interval=1)\n",
        "fhandler.suffix = \"%Y%m%d\"\n",
        "logging.basicConfig(\n",
        "        level=logging.INFO,\n",
        "        format=\"%(asctime)s - %(levelname)s - %(message)s\",\n",
        "        handlers=[fhandler, logging.StreamHandler(sys.stdout)],\n",
        "    )\n",
        "logger = logging.getLogger(__name__)"
      ]
    },
    {
      "cell_type": "markdown",
      "metadata": {},
      "source": [
        "### Initializing Variables"
      ]
    },
    {
      "cell_type": "code",
      "execution_count": 6,
      "metadata": {},
      "outputs": [],
      "source": [
        "unzipped_folder = \"rawfiles\"\n",
        "database_folder = \"database\"\n",
        "extension = \".zip\"\n",
        "\n",
        "allowed_extensions = [\".txt\",\".csv\"]\n",
        "database_name = f\"{database_folder}/source.db\"\n",
        "\n",
        "my_conn = None"
      ]
    },
    {
      "cell_type": "markdown",
      "metadata": {},
      "source": [
        "## Connecting or Creating database"
      ]
    },
    {
      "cell_type": "code",
      "execution_count": 7,
      "metadata": {},
      "outputs": [
        {
          "name": "stdout",
          "output_type": "stream",
          "text": [
            "2022-10-21 16:26:09,077 - INFO - Connected to database...\n"
          ]
        }
      ],
      "source": [
        "my_conn = None\n",
        "if use_sqlite:\n",
        "  my_conn=sqlite3.connect(database_name)\n",
        "else:\n",
        "  logger.info(os.getenv(\"PG_DATA_CONN\"))\n",
        "  my_conn = create_engine(os.getenv(\"PG_DATA_CONN\"))  \n",
        "logger.info(\"Connected to database...\")"
      ]
    },
    {
      "cell_type": "markdown",
      "metadata": {},
      "source": [
        "## Validating Load Process"
      ]
    },
    {
      "cell_type": "markdown",
      "metadata": {},
      "source": [
        "Here we will check based on line counts if the process to send to the database was sucessful or not."
      ]
    },
    {
      "cell_type": "code",
      "execution_count": 8,
      "metadata": {},
      "outputs": [
        {
          "name": "stdout",
          "output_type": "stream",
          "text": [
            "2022-10-21 16:26:09,122 - INFO - Preparing list of files to be processed...\n",
            "2022-10-21 16:26:09,138 - INFO - rawfiles\\wifia_loans_closed.csv and wifia_loans_closed being compared...\n",
            "2022-10-21 16:26:09,141 - INFO - rawfiles\\wifia_projects_selected.csv and wifia_projects_selected being compared...\n",
            "2022-10-21 16:26:09,143 - INFO - rawfiles\\wifia_letters_submitted.csv and wifia_letters_submitted being compared...\n",
            "2022-10-21 16:26:09,197 - INFO - rawfiles\\ICIS_MASTER_GENERAL_PERMITS.csv and ICIS_MASTER_GENERAL_PERMITS being compared...\n",
            "2022-10-21 16:26:09,203 - INFO - rawfiles\\EPA_INFORMAL_ENFORCEMENT_ACTIONS.csv and EPA_INFORMAL_ENFORCEMENT_ACTIONS being compared...\n",
            "2022-10-21 16:26:09,265 - INFO - rawfiles\\CASE_ENFORCEMENT_CONCLUSION_SEP.csv and CASE_ENFORCEMENT_CONCLUSION_SEP being compared...\n",
            "2022-10-21 16:26:09,275 - INFO - rawfiles\\CASE_RELATED_ACTIVITIES.csv and CASE_RELATED_ACTIVITIES being compared...\n",
            "2022-10-21 16:26:09,286 - INFO - rawfiles\\CASE_RELIEF_SOUGHT.csv and CASE_RELIEF_SOUGHT being compared...\n",
            "2022-10-21 16:26:09,299 - INFO - rawfiles\\CASE_POLLUTANTS.csv and CASE_POLLUTANTS being compared...\n",
            "2022-10-21 16:26:09,320 - INFO - rawfiles\\CASE_PENALTIES.csv and CASE_PENALTIES being compared...\n",
            "2022-10-21 16:26:09,350 - INFO - rawfiles\\NPDES_NAICS.csv and NPDES_NAICS being compared...\n",
            "2022-10-21 16:26:09,381 - INFO - rawfiles\\CASE_ENFORCEMENT_CONCLUSION_DOLLARS.csv and CASE_ENFORCEMENT_CONCLUSION_DOLLARS being compared...\n",
            "2022-10-21 16:26:09,471 - INFO - rawfiles\\CASE_VIOLATIONS.csv and CASE_VIOLATIONS being compared...\n",
            "2022-10-21 16:26:09,547 - INFO - rawfiles\\CASE_ENFORCEMENT_CONCLUSION_POLLUTANTS.csv and CASE_ENFORCEMENT_CONCLUSION_POLLUTANTS being compared...\n",
            "2022-10-21 16:26:09,584 - INFO - rawfiles\\CASE_ENFORCEMENT_TYPE.csv and CASE_ENFORCEMENT_TYPE being compared...\n",
            "2022-10-21 16:26:09,648 - INFO - rawfiles\\CASE_DEFENDANTS.csv and CASE_DEFENDANTS being compared...\n",
            "2022-10-21 16:26:09,703 - INFO - rawfiles\\NPDES_FORMAL_ENFORCEMENT_ACTIONS.csv and NPDES_FORMAL_ENFORCEMENT_ACTIONS being compared...\n",
            "2022-10-21 16:26:09,761 - INFO - rawfiles\\CASE_LAW_SECTIONS.csv and CASE_LAW_SECTIONS being compared...\n",
            "2022-10-21 16:26:09,819 - INFO - rawfiles\\CASE_ENFORCEMENT_CONCLUSIONS.csv and CASE_ENFORCEMENT_CONCLUSIONS being compared...\n",
            "2022-10-21 16:26:09,898 - INFO - rawfiles\\NPDES_CS_VIOLATIONS.csv and NPDES_CS_VIOLATIONS being compared...\n",
            "2022-10-21 16:26:09,960 - INFO - rawfiles\\NPDES_SICS.csv and NPDES_SICS being compared...\n",
            "2022-10-21 16:26:10,071 - INFO - rawfiles\\CASE_FACILITIES.csv and CASE_FACILITIES being compared...\n",
            "2022-10-21 16:26:10,181 - INFO - rawfiles\\CASE_ENFORCEMENT_CONCLUSION_COMPLYING_ACTIONS.csv and CASE_ENFORCEMENT_CONCLUSION_COMPLYING_ACTIONS being compared...\n",
            "2022-10-21 16:26:10,275 - INFO - rawfiles\\NPDES_PERM_COMPONENTS.csv and NPDES_PERM_COMPONENTS being compared...\n",
            "2022-10-21 16:26:10,408 - INFO - rawfiles\\NPDES_PERM_FEATURE_COORDS.csv and NPDES_PERM_FEATURE_COORDS being compared...\n",
            "2022-10-21 16:26:10,569 - INFO - rawfiles\\CASE_PROGRAMS.csv and CASE_PROGRAMS being compared...\n",
            "2022-10-21 16:26:10,701 - INFO - rawfiles\\FRS_SIC_CODES.csv and FRS_SIC_CODES being compared...\n",
            "2022-10-21 16:26:10,929 - INFO - rawfiles\\NPDES_SE_VIOLATIONS.csv and NPDES_SE_VIOLATIONS being compared...\n",
            "2022-10-21 16:26:11,140 - INFO - rawfiles\\NPDES_PS_VIOLATIONS.csv and NPDES_PS_VIOLATIONS being compared...\n",
            "2022-10-21 16:26:11,401 - INFO - rawfiles\\FRS_NAICS_CODES.csv and FRS_NAICS_CODES being compared...\n",
            "2022-10-21 16:26:11,774 - INFO - rawfiles\\CASE_ENFORCEMENTS.csv and CASE_ENFORCEMENTS being compared...\n",
            "2022-10-21 16:26:12,141 - INFO - rawfiles\\NPDES_INFORMAL_ENFORCEMENT_ACTIONS.csv and NPDES_INFORMAL_ENFORCEMENT_ACTIONS being compared...\n",
            "2022-10-21 16:26:12,512 - INFO - rawfiles\\ICIS_FACILITIES.csv and ICIS_FACILITIES being compared...\n",
            "2022-10-21 16:26:12,934 - INFO - rawfiles\\NPDES_INSPECTIONS.csv and NPDES_INSPECTIONS being compared...\n",
            "2022-10-21 16:26:13,527 - INFO - rawfiles\\NPDES_QNCR_HISTORY.csv and NPDES_QNCR_HISTORY being compared...\n",
            "2022-10-21 16:26:14,745 - INFO - rawfiles\\ICIS_PERMITS.csv and ICIS_PERMITS being compared...\n",
            "2022-10-21 16:26:15,814 - INFO - rawfiles\\FRS_FACILITIES.csv and FRS_FACILITIES being compared...\n",
            "2022-10-21 16:26:17,039 - INFO - rawfiles\\npdes_outfalls_layer.csv and npdes_outfalls_layer being compared...\n",
            "2022-10-21 16:26:18,128 - INFO - rawfiles\\NPDES_VIOLATION_ENFORCEMENTS.csv and NPDES_VIOLATION_ENFORCEMENTS being compared...\n",
            "2022-10-21 16:26:19,414 - INFO - rawfiles\\FRS_PROGRAM_LINKS.csv and FRS_PROGRAM_LINKS being compared...\n",
            "2022-10-21 16:26:21,339 - INFO - rawfiles\\NPDES_LIMITS.csv and NPDES_LIMITS being compared...\n",
            "2022-10-21 16:26:35,548 - INFO - rawfiles\\NPDES_EFF_VIOLATIONS.csv and NPDES_EFF_VIOLATIONS being compared...\n",
            "2022-10-21 16:27:15,102 - INFO - Saving results as files...\n"
          ]
        }
      ],
      "source": [
        "if validate_process:\n",
        "  success_data = { \"File\": [], \"File Lines\": [], \"Table\": [], \"Table Rows\": [], \"Difference\": []}\n",
        "  error_data = { \"File\": [], \"File Lines\": [], \"Table\": [], \"Table Rows\": [], \"Difference\": []}\n",
        "\n",
        "  logger.info(\"Preparing list of files to be processed...\")\n",
        "  list_of_files = filter(os.path.isfile, glob.glob(unzipped_folder + '/*') )\n",
        "  list_of_files = sorted(list_of_files, key =  lambda x: os.stat(x).st_size)  \n",
        "  files = [os.path.basename(item) for item in list_of_files]\n",
        "  for item in files:\n",
        "    try:\n",
        "      file_name = os.path.join(unzipped_folder, item)\n",
        "      table_name, file_ext = os.path.splitext(os.path.basename(item))\n",
        "      logger.info(f\"{file_name} and {table_name} being compared...\")\n",
        "      if file_ext in allowed_extensions and table_name.lower() in used_source:\n",
        "        file_count = count_lines(file_name)\n",
        "\n",
        "        db_count = 0\n",
        "        if use_sqlite:\n",
        "          db_count = my_conn.execute(f\"select count(*) from {table_name.lower()}\").fetchone()[0]\n",
        "        else:\n",
        "          db_count = my_conn.execute(f\"select count(*) from source.{table_name.lower()}\").fetchone()[0]\n",
        "\n",
        "        diff = file_count - db_count\n",
        "        if diff > 0:\n",
        "          error_data[\"File\"].append(file_name)\n",
        "          error_data[\"File Lines\"].append(file_count)\n",
        "          error_data[\"Table\"].append(table_name)\n",
        "          error_data[\"Table Rows\"].append(db_count)\n",
        "          error_data[\"Difference\"].append(diff)\n",
        "        else:\n",
        "          success_data[\"File\"].append(file_name)\n",
        "          success_data[\"File Lines\"].append(file_count)\n",
        "          success_data[\"Table\"].append(table_name)\n",
        "          success_data[\"Table Rows\"].append(db_count)\n",
        "          success_data[\"Difference\"].append(diff)\n",
        "    except:\n",
        "        logger.error(traceback.format_exc())\n",
        "\n",
        "  logger.info(\"Saving results as files...\")\n",
        "  error_report = pd.DataFrame(error_data)\n",
        "  error_report.to_markdown(os.path.join(database_folder, \"issues.md\"))\n",
        "\n",
        "  success_report = pd.DataFrame(success_data)\n",
        "  success_report.to_markdown(os.path.join(database_folder, \"success.md\"))\n"
      ]
    },
    {
      "cell_type": "markdown",
      "metadata": {},
      "source": [
        "## Closing the Database Connection"
      ]
    },
    {
      "cell_type": "code",
      "execution_count": 9,
      "metadata": {
        "colab": {
          "base_uri": "https://localhost:8080/",
          "height": 165
        },
        "id": "9-W2GCRhv0xE",
        "outputId": "cf40c9c8-b8ad-433c-888d-26a1dd56574c"
      },
      "outputs": [],
      "source": [
        "if use_sqlite:\n",
        "  my_conn.close()"
      ]
    }
  ],
  "metadata": {
    "colab": {
      "collapsed_sections": [],
      "include_colab_link": true,
      "name": "Data Exploration.ipynb",
      "provenance": []
    },
    "kernelspec": {
      "display_name": "Python 3.9.6 ('venv': venv)",
      "language": "python",
      "name": "python3"
    },
    "language_info": {
      "codemirror_mode": {
        "name": "ipython",
        "version": 3
      },
      "file_extension": ".py",
      "mimetype": "text/x-python",
      "name": "python",
      "nbconvert_exporter": "python",
      "pygments_lexer": "ipython3",
      "version": "3.9.6"
    },
    "vscode": {
      "interpreter": {
        "hash": "2699b20de84054a0debfded0092f82ecde8069d2acfd0beccd8a223bb7c57c3a"
      }
    }
  },
  "nbformat": 4,
  "nbformat_minor": 0
}
