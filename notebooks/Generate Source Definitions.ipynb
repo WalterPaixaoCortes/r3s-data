{
 "cells": [
  {
   "cell_type": "markdown",
   "metadata": {},
   "source": [
    "# Generate Source Definitions"
   ]
  },
  {
   "cell_type": "markdown",
   "metadata": {},
   "source": [
    "## Libraries"
   ]
  },
  {
   "cell_type": "code",
   "execution_count": 4,
   "metadata": {},
   "outputs": [],
   "source": [
    "import os\n",
    "import datetime\n",
    "import traceback\n",
    "import logging\n",
    "import sqlite3\n",
    "import sys\n",
    "\n",
    "from logging.handlers import TimedRotatingFileHandler\n",
    "from dotenv import load_dotenv\n",
    "from sqlalchemy import event\n",
    "from sqlalchemy import create_engine\n",
    "\n",
    "import pandas as pd"
   ]
  },
  {
   "cell_type": "markdown",
   "metadata": {},
   "source": [
    "## Environment Setting"
   ]
  },
  {
   "cell_type": "code",
   "execution_count": 5,
   "metadata": {},
   "outputs": [],
   "source": [
    "use_sqlite = False\n",
    "\n",
    "fhandler = TimedRotatingFileHandler(\"logs/log_meta.log\", when=\"midnight\", interval=1)\n",
    "fhandler.suffix = \"%Y%m%d\"\n",
    "logging.basicConfig(\n",
    "        level=logging.INFO,\n",
    "        format=\"%(asctime)s - %(levelname)s - %(message)s\",\n",
    "        handlers=[fhandler, logging.StreamHandler(sys.stdout)],\n",
    "    )\n",
    "logger = logging.getLogger(__name__)\n",
    "\n",
    "database_folder = \"database\"\n",
    "database_name = f\"{database_folder}/source.db\"\n",
    "\n",
    "load_dotenv()\n",
    "\n",
    "file_folder = \"../dbt_model/models/source\"\n",
    "file_name = \"schema.yml\"\n",
    "\n",
    "file_content = \"\"\"version: 2\n",
    "\n",
    "sources:\n",
    "  - name: source\n",
    "    tables:\n",
    "{0}\"\"\""
   ]
  },
  {
   "cell_type": "markdown",
   "metadata": {},
   "source": [
    "## Connecting to Database"
   ]
  },
  {
   "cell_type": "code",
   "execution_count": 6,
   "metadata": {},
   "outputs": [],
   "source": [
    "\n",
    "my_conn = None\n",
    "sql_tables = \"select * from sqlite_schema\"\n",
    "if use_sqlite:\n",
    "  my_conn = sqlite3.connect(database_name)\n",
    "else:\n",
    "  my_conn = create_engine(os.getenv(\"PG_DATA_CONN\"))  \n",
    "  sql_tables = \"select table_name as name from information_schema.tables WHERE table_schema = 'source' and table_type = 'BASE TABLE'\"\n",
    "\n",
    "tables = pd.read_sql(sql_tables, my_conn)\n",
    "\n",
    "list_tables = []\n",
    "\n",
    "for item in range(tables['name'].size):\n",
    "  list_tables.append(f\"      - name: {tables['name'][item].lower()}\")\n",
    "  list_tables.append(f\"        columns:\")\n",
    "\n",
    "  sql_cols = f\"PRAGMA table_info('{tables['name'][item]}')\"\n",
    "  if not use_sqlite:\n",
    "    sql_cols = f\"select column_name as name from information_schema.columns where table_name = '{tables['name'][item]}'\"\n",
    "  \n",
    "  cols = pd.read_sql(sql_cols, my_conn)\n",
    "\n",
    "  for col in range(0,cols['name'].size):\n",
    "\n",
    "    name = cols['name'][col].encode('ascii', 'ignore').decode().lower()\n",
    "\n",
    "    if name == \"unnamed: 90\":\n",
    "      name = \"unnamed\"\n",
    "\n",
    "    if name.startswith('202'):\n",
    "      name = \"extract date\"\n",
    "\n",
    "    list_tables.append(f\"          - name: {name}\")\n",
    "\n",
    "with open(os.path.join(file_folder, file_name), \"w\", encoding='utf-8') as fw:\n",
    "  fw.write(file_content.format('\\n'.join(list_tables)))"
   ]
  }
 ],
 "metadata": {
  "kernelspec": {
   "display_name": "Python 3.9.6 ('venv': venv)",
   "language": "python",
   "name": "python3"
  },
  "language_info": {
   "codemirror_mode": {
    "name": "ipython",
    "version": 3
   },
   "file_extension": ".py",
   "mimetype": "text/x-python",
   "name": "python",
   "nbconvert_exporter": "python",
   "pygments_lexer": "ipython3",
   "version": "3.9.6"
  },
  "orig_nbformat": 4,
  "vscode": {
   "interpreter": {
    "hash": "2699b20de84054a0debfded0092f82ecde8069d2acfd0beccd8a223bb7c57c3a"
   }
  }
 },
 "nbformat": 4,
 "nbformat_minor": 2
}
